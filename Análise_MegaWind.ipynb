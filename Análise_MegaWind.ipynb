{
  "nbformat": 4,
  "nbformat_minor": 0,
  "metadata": {
    "colab": {
      "provenance": [],
      "collapsed_sections": [],
      "authorship_tag": "ABX9TyPZD104Ga9YmzwYa8Hj/OnG",
      "include_colab_link": true
    },
    "kernelspec": {
      "name": "python3",
      "display_name": "Python 3"
    },
    "language_info": {
      "name": "python"
    }
  },
  "cells": [
    {
      "cell_type": "markdown",
      "metadata": {
        "id": "view-in-github",
        "colab_type": "text"
      },
      "source": [
        "<a href=\"https://colab.research.google.com/github/Raposones/Inteligencia-Artificial-2022.2/blob/master/An%C3%A1lise_MegaWind.ipynb\" target=\"_parent\"><img src=\"https://colab.research.google.com/assets/colab-badge.svg\" alt=\"Open In Colab\"/></a>"
      ]
    },
    {
      "cell_type": "markdown",
      "source": [
        "# Análise de dados - MegaWind - Reparo de pás eólicas\n",
        "\n",
        "> Autor: Raphael Carvalho Garcia <br>\n",
        "Email: raphaelgarcia0607@gmail.com<br>\n",
        "Github: https://github.com/Raposones\n",
        "\n",
        "Este material é o projeto para entrega no bootcamp Geração Tech Unimed-BH - Ciência de Dados, da plataforma DIO - Digital Innovation One. Os dados fornecidos são apenas exemplos para a realização do projeto."
      ],
      "metadata": {
        "id": "mfMzVWPHRef2"
      }
    },
    {
      "cell_type": "markdown",
      "source": [
        "# Importando bibliotecas, lendo arquivos e resolvendo problemas"
      ],
      "metadata": {
        "id": "ldK-4Jcl3agt"
      }
    },
    {
      "cell_type": "code",
      "source": [
        "#Importando bibliotecas e arquivos\n",
        "import pandas as pd\n",
        "import matplotlib.pyplot as plt\n",
        "import numpy as np\n",
        "import matplotlib\n",
        "\n",
        "#Usando um estilo diferente para matplot\n",
        "plt.style.use('bmh')\n",
        "\n",
        "#encoding é 'latin' pois a codificação padrão utf-8 não aceita acentos\n",
        "df = pd.read_csv(\"REPARO DE PÁS ENERPLAN.csv\", encoding='latin', sep=';')\n",
        "df.head()"
      ],
      "metadata": {
        "colab": {
          "base_uri": "https://localhost:8080/",
          "height": 461
        },
        "id": "0hq5VFjIUUwO",
        "outputId": "d6b59e89-c4bc-41bb-bf8d-921a0d01f299"
      },
      "execution_count": null,
      "outputs": [
        {
          "output_type": "execute_result",
          "data": {
            "text/plain": [
              "                Wind Park  WTG ID  Blade SN Blade Model Section  \\\n",
              "0  COMPLEXO EÓLICO PONTAL  P2B-02      2035      48.7XL      LE   \n",
              "1  COMPLEXO EÓLICO PONTAL  P2B-02      2035      48.7XL      LE   \n",
              "2  COMPLEXO EÓLICO PONTAL  P2B-02      2035      48.7XL      LE   \n",
              "3  COMPLEXO EÓLICO PONTAL  P2B-02      2035      48.7XL      LE   \n",
              "4  COMPLEXO EÓLICO PONTAL  P2B-02      2035      48.7XL      LE   \n",
              "\n",
              "                                           Image URL                Type  \\\n",
              "0  https://winddataimgwindeuprd.blob.core.windows...  Top Coat - Peeling   \n",
              "1  https://winddataimgwindeuprd.blob.core.windows...               Fungi   \n",
              "2  https://winddataimgwindeuprd.blob.core.windows...  Top Coat - Pitting   \n",
              "3  https://winddataimgwindeuprd.blob.core.windows...  Top Coat - Pitting   \n",
              "4  https://winddataimgwindeuprd.blob.core.windows...  Top Coat - Pitting   \n",
              "\n",
              "  Location(m)  Length(mm)  Width(mm)  \n",
              "0       13,82        6000        500  \n",
              "1        17,8        2007        841  \n",
              "2       23,41         120         10  \n",
              "3       21,44          60         10  \n",
              "4       25,03         500         10  "
            ],
            "text/html": [
              "\n",
              "  <div id=\"df-6a247c5d-abc9-46d9-b3d1-c39179e55578\">\n",
              "    <div class=\"colab-df-container\">\n",
              "      <div>\n",
              "<style scoped>\n",
              "    .dataframe tbody tr th:only-of-type {\n",
              "        vertical-align: middle;\n",
              "    }\n",
              "\n",
              "    .dataframe tbody tr th {\n",
              "        vertical-align: top;\n",
              "    }\n",
              "\n",
              "    .dataframe thead th {\n",
              "        text-align: right;\n",
              "    }\n",
              "</style>\n",
              "<table border=\"1\" class=\"dataframe\">\n",
              "  <thead>\n",
              "    <tr style=\"text-align: right;\">\n",
              "      <th></th>\n",
              "      <th>Wind Park</th>\n",
              "      <th>WTG ID</th>\n",
              "      <th>Blade SN</th>\n",
              "      <th>Blade Model</th>\n",
              "      <th>Section</th>\n",
              "      <th>Image URL</th>\n",
              "      <th>Type</th>\n",
              "      <th>Location(m)</th>\n",
              "      <th>Length(mm)</th>\n",
              "      <th>Width(mm)</th>\n",
              "    </tr>\n",
              "  </thead>\n",
              "  <tbody>\n",
              "    <tr>\n",
              "      <th>0</th>\n",
              "      <td>COMPLEXO EÓLICO PONTAL</td>\n",
              "      <td>P2B-02</td>\n",
              "      <td>2035</td>\n",
              "      <td>48.7XL</td>\n",
              "      <td>LE</td>\n",
              "      <td>https://winddataimgwindeuprd.blob.core.windows...</td>\n",
              "      <td>Top Coat - Peeling</td>\n",
              "      <td>13,82</td>\n",
              "      <td>6000</td>\n",
              "      <td>500</td>\n",
              "    </tr>\n",
              "    <tr>\n",
              "      <th>1</th>\n",
              "      <td>COMPLEXO EÓLICO PONTAL</td>\n",
              "      <td>P2B-02</td>\n",
              "      <td>2035</td>\n",
              "      <td>48.7XL</td>\n",
              "      <td>LE</td>\n",
              "      <td>https://winddataimgwindeuprd.blob.core.windows...</td>\n",
              "      <td>Fungi</td>\n",
              "      <td>17,8</td>\n",
              "      <td>2007</td>\n",
              "      <td>841</td>\n",
              "    </tr>\n",
              "    <tr>\n",
              "      <th>2</th>\n",
              "      <td>COMPLEXO EÓLICO PONTAL</td>\n",
              "      <td>P2B-02</td>\n",
              "      <td>2035</td>\n",
              "      <td>48.7XL</td>\n",
              "      <td>LE</td>\n",
              "      <td>https://winddataimgwindeuprd.blob.core.windows...</td>\n",
              "      <td>Top Coat - Pitting</td>\n",
              "      <td>23,41</td>\n",
              "      <td>120</td>\n",
              "      <td>10</td>\n",
              "    </tr>\n",
              "    <tr>\n",
              "      <th>3</th>\n",
              "      <td>COMPLEXO EÓLICO PONTAL</td>\n",
              "      <td>P2B-02</td>\n",
              "      <td>2035</td>\n",
              "      <td>48.7XL</td>\n",
              "      <td>LE</td>\n",
              "      <td>https://winddataimgwindeuprd.blob.core.windows...</td>\n",
              "      <td>Top Coat - Pitting</td>\n",
              "      <td>21,44</td>\n",
              "      <td>60</td>\n",
              "      <td>10</td>\n",
              "    </tr>\n",
              "    <tr>\n",
              "      <th>4</th>\n",
              "      <td>COMPLEXO EÓLICO PONTAL</td>\n",
              "      <td>P2B-02</td>\n",
              "      <td>2035</td>\n",
              "      <td>48.7XL</td>\n",
              "      <td>LE</td>\n",
              "      <td>https://winddataimgwindeuprd.blob.core.windows...</td>\n",
              "      <td>Top Coat - Pitting</td>\n",
              "      <td>25,03</td>\n",
              "      <td>500</td>\n",
              "      <td>10</td>\n",
              "    </tr>\n",
              "  </tbody>\n",
              "</table>\n",
              "</div>\n",
              "      <button class=\"colab-df-convert\" onclick=\"convertToInteractive('df-6a247c5d-abc9-46d9-b3d1-c39179e55578')\"\n",
              "              title=\"Convert this dataframe to an interactive table.\"\n",
              "              style=\"display:none;\">\n",
              "        \n",
              "  <svg xmlns=\"http://www.w3.org/2000/svg\" height=\"24px\"viewBox=\"0 0 24 24\"\n",
              "       width=\"24px\">\n",
              "    <path d=\"M0 0h24v24H0V0z\" fill=\"none\"/>\n",
              "    <path d=\"M18.56 5.44l.94 2.06.94-2.06 2.06-.94-2.06-.94-.94-2.06-.94 2.06-2.06.94zm-11 1L8.5 8.5l.94-2.06 2.06-.94-2.06-.94L8.5 2.5l-.94 2.06-2.06.94zm10 10l.94 2.06.94-2.06 2.06-.94-2.06-.94-.94-2.06-.94 2.06-2.06.94z\"/><path d=\"M17.41 7.96l-1.37-1.37c-.4-.4-.92-.59-1.43-.59-.52 0-1.04.2-1.43.59L10.3 9.45l-7.72 7.72c-.78.78-.78 2.05 0 2.83L4 21.41c.39.39.9.59 1.41.59.51 0 1.02-.2 1.41-.59l7.78-7.78 2.81-2.81c.8-.78.8-2.07 0-2.86zM5.41 20L4 18.59l7.72-7.72 1.47 1.35L5.41 20z\"/>\n",
              "  </svg>\n",
              "      </button>\n",
              "      \n",
              "  <style>\n",
              "    .colab-df-container {\n",
              "      display:flex;\n",
              "      flex-wrap:wrap;\n",
              "      gap: 12px;\n",
              "    }\n",
              "\n",
              "    .colab-df-convert {\n",
              "      background-color: #E8F0FE;\n",
              "      border: none;\n",
              "      border-radius: 50%;\n",
              "      cursor: pointer;\n",
              "      display: none;\n",
              "      fill: #1967D2;\n",
              "      height: 32px;\n",
              "      padding: 0 0 0 0;\n",
              "      width: 32px;\n",
              "    }\n",
              "\n",
              "    .colab-df-convert:hover {\n",
              "      background-color: #E2EBFA;\n",
              "      box-shadow: 0px 1px 2px rgba(60, 64, 67, 0.3), 0px 1px 3px 1px rgba(60, 64, 67, 0.15);\n",
              "      fill: #174EA6;\n",
              "    }\n",
              "\n",
              "    [theme=dark] .colab-df-convert {\n",
              "      background-color: #3B4455;\n",
              "      fill: #D2E3FC;\n",
              "    }\n",
              "\n",
              "    [theme=dark] .colab-df-convert:hover {\n",
              "      background-color: #434B5C;\n",
              "      box-shadow: 0px 1px 3px 1px rgba(0, 0, 0, 0.15);\n",
              "      filter: drop-shadow(0px 1px 2px rgba(0, 0, 0, 0.3));\n",
              "      fill: #FFFFFF;\n",
              "    }\n",
              "  </style>\n",
              "\n",
              "      <script>\n",
              "        const buttonEl =\n",
              "          document.querySelector('#df-6a247c5d-abc9-46d9-b3d1-c39179e55578 button.colab-df-convert');\n",
              "        buttonEl.style.display =\n",
              "          google.colab.kernel.accessAllowed ? 'block' : 'none';\n",
              "\n",
              "        async function convertToInteractive(key) {\n",
              "          const element = document.querySelector('#df-6a247c5d-abc9-46d9-b3d1-c39179e55578');\n",
              "          const dataTable =\n",
              "            await google.colab.kernel.invokeFunction('convertToInteractive',\n",
              "                                                     [key], {});\n",
              "          if (!dataTable) return;\n",
              "\n",
              "          const docLinkHtml = 'Like what you see? Visit the ' +\n",
              "            '<a target=\"_blank\" href=https://colab.research.google.com/notebooks/data_table.ipynb>data table notebook</a>'\n",
              "            + ' to learn more about interactive tables.';\n",
              "          element.innerHTML = '';\n",
              "          dataTable['output_type'] = 'display_data';\n",
              "          await google.colab.output.renderOutput(dataTable, element);\n",
              "          const docLink = document.createElement('div');\n",
              "          docLink.innerHTML = docLinkHtml;\n",
              "          element.appendChild(docLink);\n",
              "        }\n",
              "      </script>\n",
              "    </div>\n",
              "  </div>\n",
              "  "
            ]
          },
          "metadata": {},
          "execution_count": 172
        }
      ]
    },
    {
      "cell_type": "code",
      "source": [
        "#Renomeando colunas para português\n",
        "df = df.rename(columns={'Wind Park':'Parque Eólico', 'Blade SN':'SN da lâmina', 'Blade Model':'Modelo', 'Section': 'Seção', 'Image URL': 'Link da imagem', \n",
        "                   'Type':'Tipo', 'Location(m)':'Altura(m)', 'Length(mm)':'Comprimento(mm)', 'Width(mm)':'Largura(mm)'})\n",
        "df.head()"
      ],
      "metadata": {
        "colab": {
          "base_uri": "https://localhost:8080/",
          "height": 461
        },
        "id": "hXMyTCkQcVe-",
        "outputId": "068d6e3d-8e72-40de-8632-b72f60229f93"
      },
      "execution_count": null,
      "outputs": [
        {
          "output_type": "execute_result",
          "data": {
            "text/plain": [
              "            Parque Eólico  WTG ID  SN da lâmina  Modelo Seção  \\\n",
              "0  COMPLEXO EÓLICO PONTAL  P2B-02          2035  48.7XL    LE   \n",
              "1  COMPLEXO EÓLICO PONTAL  P2B-02          2035  48.7XL    LE   \n",
              "2  COMPLEXO EÓLICO PONTAL  P2B-02          2035  48.7XL    LE   \n",
              "3  COMPLEXO EÓLICO PONTAL  P2B-02          2035  48.7XL    LE   \n",
              "4  COMPLEXO EÓLICO PONTAL  P2B-02          2035  48.7XL    LE   \n",
              "\n",
              "                                      Link da imagem                Tipo  \\\n",
              "0  https://winddataimgwindeuprd.blob.core.windows...  Top Coat - Peeling   \n",
              "1  https://winddataimgwindeuprd.blob.core.windows...               Fungi   \n",
              "2  https://winddataimgwindeuprd.blob.core.windows...  Top Coat - Pitting   \n",
              "3  https://winddataimgwindeuprd.blob.core.windows...  Top Coat - Pitting   \n",
              "4  https://winddataimgwindeuprd.blob.core.windows...  Top Coat - Pitting   \n",
              "\n",
              "  Altura(m)  Comprimento(mm)  Largura(mm)  \n",
              "0     13,82             6000          500  \n",
              "1      17,8             2007          841  \n",
              "2     23,41              120           10  \n",
              "3     21,44               60           10  \n",
              "4     25,03              500           10  "
            ],
            "text/html": [
              "\n",
              "  <div id=\"df-ce2de6e0-36a2-40e1-a3c6-f2150ffbbde7\">\n",
              "    <div class=\"colab-df-container\">\n",
              "      <div>\n",
              "<style scoped>\n",
              "    .dataframe tbody tr th:only-of-type {\n",
              "        vertical-align: middle;\n",
              "    }\n",
              "\n",
              "    .dataframe tbody tr th {\n",
              "        vertical-align: top;\n",
              "    }\n",
              "\n",
              "    .dataframe thead th {\n",
              "        text-align: right;\n",
              "    }\n",
              "</style>\n",
              "<table border=\"1\" class=\"dataframe\">\n",
              "  <thead>\n",
              "    <tr style=\"text-align: right;\">\n",
              "      <th></th>\n",
              "      <th>Parque Eólico</th>\n",
              "      <th>WTG ID</th>\n",
              "      <th>SN da lâmina</th>\n",
              "      <th>Modelo</th>\n",
              "      <th>Seção</th>\n",
              "      <th>Link da imagem</th>\n",
              "      <th>Tipo</th>\n",
              "      <th>Altura(m)</th>\n",
              "      <th>Comprimento(mm)</th>\n",
              "      <th>Largura(mm)</th>\n",
              "    </tr>\n",
              "  </thead>\n",
              "  <tbody>\n",
              "    <tr>\n",
              "      <th>0</th>\n",
              "      <td>COMPLEXO EÓLICO PONTAL</td>\n",
              "      <td>P2B-02</td>\n",
              "      <td>2035</td>\n",
              "      <td>48.7XL</td>\n",
              "      <td>LE</td>\n",
              "      <td>https://winddataimgwindeuprd.blob.core.windows...</td>\n",
              "      <td>Top Coat - Peeling</td>\n",
              "      <td>13,82</td>\n",
              "      <td>6000</td>\n",
              "      <td>500</td>\n",
              "    </tr>\n",
              "    <tr>\n",
              "      <th>1</th>\n",
              "      <td>COMPLEXO EÓLICO PONTAL</td>\n",
              "      <td>P2B-02</td>\n",
              "      <td>2035</td>\n",
              "      <td>48.7XL</td>\n",
              "      <td>LE</td>\n",
              "      <td>https://winddataimgwindeuprd.blob.core.windows...</td>\n",
              "      <td>Fungi</td>\n",
              "      <td>17,8</td>\n",
              "      <td>2007</td>\n",
              "      <td>841</td>\n",
              "    </tr>\n",
              "    <tr>\n",
              "      <th>2</th>\n",
              "      <td>COMPLEXO EÓLICO PONTAL</td>\n",
              "      <td>P2B-02</td>\n",
              "      <td>2035</td>\n",
              "      <td>48.7XL</td>\n",
              "      <td>LE</td>\n",
              "      <td>https://winddataimgwindeuprd.blob.core.windows...</td>\n",
              "      <td>Top Coat - Pitting</td>\n",
              "      <td>23,41</td>\n",
              "      <td>120</td>\n",
              "      <td>10</td>\n",
              "    </tr>\n",
              "    <tr>\n",
              "      <th>3</th>\n",
              "      <td>COMPLEXO EÓLICO PONTAL</td>\n",
              "      <td>P2B-02</td>\n",
              "      <td>2035</td>\n",
              "      <td>48.7XL</td>\n",
              "      <td>LE</td>\n",
              "      <td>https://winddataimgwindeuprd.blob.core.windows...</td>\n",
              "      <td>Top Coat - Pitting</td>\n",
              "      <td>21,44</td>\n",
              "      <td>60</td>\n",
              "      <td>10</td>\n",
              "    </tr>\n",
              "    <tr>\n",
              "      <th>4</th>\n",
              "      <td>COMPLEXO EÓLICO PONTAL</td>\n",
              "      <td>P2B-02</td>\n",
              "      <td>2035</td>\n",
              "      <td>48.7XL</td>\n",
              "      <td>LE</td>\n",
              "      <td>https://winddataimgwindeuprd.blob.core.windows...</td>\n",
              "      <td>Top Coat - Pitting</td>\n",
              "      <td>25,03</td>\n",
              "      <td>500</td>\n",
              "      <td>10</td>\n",
              "    </tr>\n",
              "  </tbody>\n",
              "</table>\n",
              "</div>\n",
              "      <button class=\"colab-df-convert\" onclick=\"convertToInteractive('df-ce2de6e0-36a2-40e1-a3c6-f2150ffbbde7')\"\n",
              "              title=\"Convert this dataframe to an interactive table.\"\n",
              "              style=\"display:none;\">\n",
              "        \n",
              "  <svg xmlns=\"http://www.w3.org/2000/svg\" height=\"24px\"viewBox=\"0 0 24 24\"\n",
              "       width=\"24px\">\n",
              "    <path d=\"M0 0h24v24H0V0z\" fill=\"none\"/>\n",
              "    <path d=\"M18.56 5.44l.94 2.06.94-2.06 2.06-.94-2.06-.94-.94-2.06-.94 2.06-2.06.94zm-11 1L8.5 8.5l.94-2.06 2.06-.94-2.06-.94L8.5 2.5l-.94 2.06-2.06.94zm10 10l.94 2.06.94-2.06 2.06-.94-2.06-.94-.94-2.06-.94 2.06-2.06.94z\"/><path d=\"M17.41 7.96l-1.37-1.37c-.4-.4-.92-.59-1.43-.59-.52 0-1.04.2-1.43.59L10.3 9.45l-7.72 7.72c-.78.78-.78 2.05 0 2.83L4 21.41c.39.39.9.59 1.41.59.51 0 1.02-.2 1.41-.59l7.78-7.78 2.81-2.81c.8-.78.8-2.07 0-2.86zM5.41 20L4 18.59l7.72-7.72 1.47 1.35L5.41 20z\"/>\n",
              "  </svg>\n",
              "      </button>\n",
              "      \n",
              "  <style>\n",
              "    .colab-df-container {\n",
              "      display:flex;\n",
              "      flex-wrap:wrap;\n",
              "      gap: 12px;\n",
              "    }\n",
              "\n",
              "    .colab-df-convert {\n",
              "      background-color: #E8F0FE;\n",
              "      border: none;\n",
              "      border-radius: 50%;\n",
              "      cursor: pointer;\n",
              "      display: none;\n",
              "      fill: #1967D2;\n",
              "      height: 32px;\n",
              "      padding: 0 0 0 0;\n",
              "      width: 32px;\n",
              "    }\n",
              "\n",
              "    .colab-df-convert:hover {\n",
              "      background-color: #E2EBFA;\n",
              "      box-shadow: 0px 1px 2px rgba(60, 64, 67, 0.3), 0px 1px 3px 1px rgba(60, 64, 67, 0.15);\n",
              "      fill: #174EA6;\n",
              "    }\n",
              "\n",
              "    [theme=dark] .colab-df-convert {\n",
              "      background-color: #3B4455;\n",
              "      fill: #D2E3FC;\n",
              "    }\n",
              "\n",
              "    [theme=dark] .colab-df-convert:hover {\n",
              "      background-color: #434B5C;\n",
              "      box-shadow: 0px 1px 3px 1px rgba(0, 0, 0, 0.15);\n",
              "      filter: drop-shadow(0px 1px 2px rgba(0, 0, 0, 0.3));\n",
              "      fill: #FFFFFF;\n",
              "    }\n",
              "  </style>\n",
              "\n",
              "      <script>\n",
              "        const buttonEl =\n",
              "          document.querySelector('#df-ce2de6e0-36a2-40e1-a3c6-f2150ffbbde7 button.colab-df-convert');\n",
              "        buttonEl.style.display =\n",
              "          google.colab.kernel.accessAllowed ? 'block' : 'none';\n",
              "\n",
              "        async function convertToInteractive(key) {\n",
              "          const element = document.querySelector('#df-ce2de6e0-36a2-40e1-a3c6-f2150ffbbde7');\n",
              "          const dataTable =\n",
              "            await google.colab.kernel.invokeFunction('convertToInteractive',\n",
              "                                                     [key], {});\n",
              "          if (!dataTable) return;\n",
              "\n",
              "          const docLinkHtml = 'Like what you see? Visit the ' +\n",
              "            '<a target=\"_blank\" href=https://colab.research.google.com/notebooks/data_table.ipynb>data table notebook</a>'\n",
              "            + ' to learn more about interactive tables.';\n",
              "          element.innerHTML = '';\n",
              "          dataTable['output_type'] = 'display_data';\n",
              "          await google.colab.output.renderOutput(dataTable, element);\n",
              "          const docLink = document.createElement('div');\n",
              "          docLink.innerHTML = docLinkHtml;\n",
              "          element.appendChild(docLink);\n",
              "        }\n",
              "      </script>\n",
              "    </div>\n",
              "  </div>\n",
              "  "
            ]
          },
          "metadata": {},
          "execution_count": 173
        }
      ]
    },
    {
      "cell_type": "code",
      "source": [
        "#Checando tipos em cada coluna\n",
        "df.dtypes"
      ],
      "metadata": {
        "colab": {
          "base_uri": "https://localhost:8080/"
        },
        "id": "n8A7Ksrliyln",
        "outputId": "f219daa1-fd84-42d3-c2ba-1a6bcf0183a2"
      },
      "execution_count": null,
      "outputs": [
        {
          "output_type": "execute_result",
          "data": {
            "text/plain": [
              "Parque Eólico      object\n",
              "WTG ID             object\n",
              "SN da lâmina        int64\n",
              "Modelo             object\n",
              "Seção              object\n",
              "Link da imagem     object\n",
              "Tipo               object\n",
              "Altura(m)          object\n",
              "Comprimento(mm)     int64\n",
              "Largura(mm)         int64\n",
              "dtype: object"
            ]
          },
          "metadata": {},
          "execution_count": 174
        }
      ]
    },
    {
      "cell_type": "markdown",
      "source": [
        "Ao checar os tipos em cada coluna, podemos fazer algumas modificações:\n",
        "- SN da lâmina está como inteiro, mas podemos modificar para string, visto que o número serial de algo é único e não desejamos realizar nenhum cálculo com ele;\n",
        "- Altura (em metros) está como string, é necessário usá-la como float para realizar cálculos (como altura média, achar a menor altura, etc) O fato de possuir vírgula o faz do tipo float, e não integer."
      ],
      "metadata": {
        "id": "dTMvMzMYkndQ"
      }
    },
    {
      "cell_type": "code",
      "source": [
        "#Função para trocar vírgulas por pontos. Por convenção, números flutuantes utilizam ponto.\n",
        "#Ao tentar converter de string para float, dá erro se o valor possuir vírgula, portanto será necessário trocá-los para ponto.\n",
        "df['Altura(m)'] = df['Altura(m)'].str.replace(',', '.')\n",
        "\n",
        "#Modificando tipos das colunas\n",
        "df = df.astype({'SN da lâmina':object, 'Altura(m)':float})\n",
        "df['Altura(m)'] = df['Altura(m)']\n",
        "df.dtypes"
      ],
      "metadata": {
        "colab": {
          "base_uri": "https://localhost:8080/"
        },
        "id": "eRINQhrtmIC3",
        "outputId": "9b001213-813b-41fb-8ea0-54e94d9b41f4"
      },
      "execution_count": null,
      "outputs": [
        {
          "output_type": "execute_result",
          "data": {
            "text/plain": [
              "Parque Eólico       object\n",
              "WTG ID              object\n",
              "SN da lâmina        object\n",
              "Modelo              object\n",
              "Seção               object\n",
              "Link da imagem      object\n",
              "Tipo                object\n",
              "Altura(m)          float64\n",
              "Comprimento(mm)      int64\n",
              "Largura(mm)          int64\n",
              "dtype: object"
            ]
          },
          "metadata": {},
          "execution_count": 175
        }
      ]
    },
    {
      "cell_type": "markdown",
      "source": [
        "Ao tentar, por exemplo, analisar a altura média de cada tipo de defeito, temos o seguinte:"
      ],
      "metadata": {
        "id": "wcWmkn5S1Wca"
      }
    },
    {
      "cell_type": "code",
      "source": [
        "df.groupby('Tipo')['Altura(m)'].mean().round(2)"
      ],
      "metadata": {
        "colab": {
          "base_uri": "https://localhost:8080/"
        },
        "id": "6OdTooj61Y1p",
        "outputId": "76991a3d-d936-4c65-8eb8-19e6256fe264"
      },
      "execution_count": null,
      "outputs": [
        {
          "output_type": "execute_result",
          "data": {
            "text/plain": [
              "Tipo\n",
              "Crack in the bonding line        42.88\n",
              "Crack in the laminate            34.89\n",
              "Crack in the laminate             3.73\n",
              "Delamination                     48.56\n",
              "Drain Hole Obstructed            55.23\n",
              "Fungi                            14.80\n",
              "LEP tape- Damaged                37.02\n",
              "Seleant cracked                  58.90\n",
              "Top Coat - Eorosion in the LE    53.72\n",
              "Top Coat - Peeling               28.31\n",
              "Top Coat - Peeling               13.02\n",
              "Top Coat - Pitting               33.43\n",
              "Top Coat - Scratch               30.09\n",
              "Top Coat - Superficial Crack     36.60\n",
              "Name: Altura(m), dtype: float64"
            ]
          },
          "metadata": {},
          "execution_count": 176
        }
      ]
    },
    {
      "cell_type": "markdown",
      "source": [
        "Temos duplicatas! É possível perceber o erro ao pegar a lista de valores únicos de Tipo:"
      ],
      "metadata": {
        "id": "x1jl_qvg1jSz"
      }
    },
    {
      "cell_type": "code",
      "source": [
        "list(df['Tipo'].unique())"
      ],
      "metadata": {
        "colab": {
          "base_uri": "https://localhost:8080/"
        },
        "id": "8kX5TeFW1rxy",
        "outputId": "6084adfd-927c-4195-f5f1-6e65c1abdeff"
      },
      "execution_count": null,
      "outputs": [
        {
          "output_type": "execute_result",
          "data": {
            "text/plain": [
              "['Top Coat - Peeling',\n",
              " 'Fungi',\n",
              " 'Top Coat - Pitting',\n",
              " 'Crack in the laminate',\n",
              " 'Top Coat - Peeling ',\n",
              " 'Crack in the bonding line',\n",
              " 'Top Coat - Eorosion in the LE',\n",
              " 'Drain Hole Obstructed',\n",
              " 'LEP tape- Damaged',\n",
              " 'Top Coat - Superficial Crack',\n",
              " 'Delamination ',\n",
              " 'Crack in the laminate ',\n",
              " 'Top Coat - Scratch',\n",
              " 'Seleant cracked']"
            ]
          },
          "metadata": {},
          "execution_count": 177
        }
      ]
    },
    {
      "cell_type": "markdown",
      "source": [
        "Ao analisar a lista, podemos perceber que algumas string possuem um espaço em branco no final, deixando os valores como únicos. Para solucionar isso, devemos limpar esses espaços, tornando todos os valores iguais."
      ],
      "metadata": {
        "id": "MoaxW6RC12ir"
      }
    },
    {
      "cell_type": "code",
      "source": [
        "#Usando 'rstrip' para limpar os espaços na direita\n",
        "df['Tipo'] = df['Tipo'].str.rstrip()\n",
        "\n",
        "#Verificando a média novamente, podemos perceber que agora não há duplicatas!\n",
        "df.groupby('Tipo')['Altura(m)'].mean().round(2)"
      ],
      "metadata": {
        "colab": {
          "base_uri": "https://localhost:8080/"
        },
        "id": "k3j29pFK2WwU",
        "outputId": "a1571054-04a0-4e49-fdef-769b93650c16"
      },
      "execution_count": null,
      "outputs": [
        {
          "output_type": "execute_result",
          "data": {
            "text/plain": [
              "Tipo\n",
              "Crack in the bonding line        42.88\n",
              "Crack in the laminate            32.94\n",
              "Delamination                     48.56\n",
              "Drain Hole Obstructed            55.23\n",
              "Fungi                            14.80\n",
              "LEP tape- Damaged                37.02\n",
              "Seleant cracked                  58.90\n",
              "Top Coat - Eorosion in the LE    53.72\n",
              "Top Coat - Peeling               27.87\n",
              "Top Coat - Pitting               33.43\n",
              "Top Coat - Scratch               30.09\n",
              "Top Coat - Superficial Crack     36.60\n",
              "Name: Altura(m), dtype: float64"
            ]
          },
          "metadata": {},
          "execution_count": 178
        }
      ]
    },
    {
      "cell_type": "markdown",
      "source": [
        "\n",
        "\n",
        "# Análises\n",
        " \n",
        "\n"
      ],
      "metadata": {
        "id": "vxnwzeF7xPSb"
      }
    },
    {
      "cell_type": "markdown",
      "source": [
        "##  Quantidade de parques, lâminas e problemas diferentes:"
      ],
      "metadata": {
        "id": "AGw_QPno0k2J"
      }
    },
    {
      "cell_type": "code",
      "source": [
        "#Número de parques únicos\n",
        "num_parques = df['Parque Eólico'].nunique()\n",
        "\n",
        "#Lista com nome dos parques\n",
        "parques = list(df['Parque Eólico'].unique())\n",
        "\n",
        "#Número de lâminas únicas (por SN)\n",
        "num_laminas = df['SN da lâmina'].nunique()\n",
        "\n",
        "#Número de tipos de problemas presentes\n",
        "num_tipos = df['Tipo'].nunique()\n",
        "\n",
        "#Lista com o nome de cada problema\n",
        "tipos = list(df['Tipo'].unique())\n",
        "\n",
        "#Mostrando resultados\n",
        "print(f'Nº parques: {num_parques}\\nParques: {parques}')\n",
        "print('//'.center(20, '-'))\n",
        "print(f'Nº de problemas diferentes: {num_tipos}\\nTipos de problemas: {tipos}')\n",
        "print('//'.center(20, '-'))\n",
        "print(f'Nº lâminas com problemas: {num_laminas}')\n"
      ],
      "metadata": {
        "colab": {
          "base_uri": "https://localhost:8080/"
        },
        "id": "gea2L-lUx71L",
        "outputId": "7cba20f1-cd33-406b-db9c-7b868cdf53fe"
      },
      "execution_count": null,
      "outputs": [
        {
          "output_type": "stream",
          "name": "stdout",
          "text": [
            "Nº parques: 1\n",
            "Parques: ['COMPLEXO EÓLICO PONTAL']\n",
            "---------//---------\n",
            "Nº de problemas diferentes: 12\n",
            "Tipos de problemas: ['Top Coat - Peeling', 'Fungi', 'Top Coat - Pitting', 'Crack in the laminate', 'Crack in the bonding line', 'Top Coat - Eorosion in the LE', 'Drain Hole Obstructed', 'LEP tape- Damaged', 'Top Coat - Superficial Crack', 'Delamination', 'Top Coat - Scratch', 'Seleant cracked']\n",
            "---------//---------\n",
            "Nº lâminas com problemas: 18\n"
          ]
        }
      ]
    },
    {
      "cell_type": "markdown",
      "source": [
        "Poderíamos analisar cada parque, mas como há apenas um, não será necessário. \n",
        "\n",
        "Com esta anáise, concluímos que há um total de 18 lâminas diferentes, e um total de 12 problemas diferentes para cada lâmina."
      ],
      "metadata": {
        "id": "Gl9eFxs30qRj"
      }
    },
    {
      "cell_type": "markdown",
      "source": [
        "## Quantidade de problemas em lâminas por modelo"
      ],
      "metadata": {
        "id": "ckd-YMCM4Bq1"
      }
    },
    {
      "cell_type": "code",
      "source": [
        "df.groupby('Modelo')['Tipo'].size().plot.bar(title='Problemas por modelo de lâmina', color='royalblue')\n",
        "plt.xticks(rotation='0');"
      ],
      "metadata": {
        "colab": {
          "base_uri": "https://localhost:8080/",
          "height": 296
        },
        "id": "pPlCv4N85KGj",
        "outputId": "48b9e5c5-ca82-4cbe-f099-dff00a8d9bf6"
      },
      "execution_count": null,
      "outputs": [
        {
          "output_type": "display_data",
          "data": {
            "text/plain": [
              "<Figure size 432x288 with 1 Axes>"
            ],
            "image/png": "[encoded data removed]"
          },
          "metadata": {
            "needs_background": "light"
          }
        }
      ]
    },
    {
      "cell_type": "markdown",
      "source": [
        "O modelo 48.7XL apresenta mais problemas do que o modelo AL59."
      ],
      "metadata": {
        "id": "0tgXigAqBNi1"
      }
    },
    {
      "cell_type": "markdown",
      "source": [
        "## Comparação de problemas por quantidade"
      ],
      "metadata": {
        "id": "IIBNCbzWChuO"
      }
    },
    {
      "cell_type": "code",
      "source": [
        "#Problema x quantidade, ordenado de maior para menor\n",
        "df_problemas = df.groupby('Tipo')['Tipo'].size().sort_values()\n",
        "df_problemas.plot.barh(title=\"Ocorrência de problemas\", color='lightcoral');"
      ],
      "metadata": {
        "colab": {
          "base_uri": "https://localhost:8080/",
          "height": 279
        },
        "id": "GHGghF4hCvVt",
        "outputId": "2b4e7a06-5fc2-477d-e9ce-f6da696377cf"
      },
      "execution_count": null,
      "outputs": [
        {
          "output_type": "display_data",
          "data": {
            "text/plain": [
              "<Figure size 432x288 with 1 Axes>"
            ],
            "image/png": "[encoded data removed]"
          },
          "metadata": {
            "needs_background": "light"
          }
        }
      ]
    },
    {
      "cell_type": "markdown",
      "source": [
        "Comparando os problemas, percebemos que o problema **Top Coat - Peeling (camada superior descascando) é o mais frequente**, enquanto **Top Coat - Scratch (camada superior coom arranhôes) é o que menos acontece**."
      ],
      "metadata": {
        "id": "o3qCNSGqJW7n"
      }
    },
    {
      "cell_type": "markdown",
      "source": [
        "## Analisando a altura, comprimento e largura dos problemas\n"
      ],
      "metadata": {
        "id": "GbcUavilLTMA"
      }
    },
    {
      "cell_type": "markdown",
      "source": [
        "### -> Altura, comprimento e largura média"
      ],
      "metadata": {
        "id": "oMayWaYDSn4w"
      }
    },
    {
      "cell_type": "code",
      "source": [
        "#Usando o metodo describe, retornar uma lista com as medias (feitas no dataset com colunas de números reais)\n",
        "medias = list(df.describe().mean().round(2))\n",
        "\n",
        "#Ordem da lista medias: altura média -> comprimento médio -> largura média\n",
        "alt_med = medias[0]\n",
        "comp_med = medias[1]\n",
        "larg_med = medias[2]\n",
        "\n",
        "print(f'Altura média da localização dos problemas: {alt_med} metros;')\n",
        "print(f'Comprimento médio dos problemas: {comp_med} milímetros;')\n",
        "print(f'Largura média dos problemas: {larg_med} milímetros;')"
      ],
      "metadata": {
        "colab": {
          "base_uri": "https://localhost:8080/"
        },
        "id": "Q2Dwn9muKkXn",
        "outputId": "f42907c1-c4ad-43aa-88e9-853710c57ca3"
      },
      "execution_count": null,
      "outputs": [
        {
          "output_type": "stream",
          "name": "stdout",
          "text": [
            "Altura média da localização dos problemas: 53.23 metros;\n",
            "Comprimento médio dos problemas: 1374.59 milímetros;\n",
            "Largura média dos problemas: 912.3 milímetros;\n"
          ]
        }
      ]
    },
    {
      "cell_type": "markdown",
      "source": [
        "### -> Comparação entre problema mais alto e mais baixo, e maior e menor"
      ],
      "metadata": {
        "id": "xPW9d6mmOEvw"
      }
    },
    {
      "cell_type": "code",
      "source": [
        "#Problema localizado na maior altura\n",
        "df[df['Altura(m)']==df['Altura(m)'].max()]\n"
      ],
      "metadata": {
        "colab": {
          "base_uri": "https://localhost:8080/",
          "height": 263
        },
        "id": "AurEOU_7OX9J",
        "outputId": "e64ab01b-3e4e-406c-b9de-c76f2fe09a93"
      },
      "execution_count": null,
      "outputs": [
        {
          "output_type": "execute_result",
          "data": {
            "text/plain": [
              "              Parque Eólico  WTG ID SN da lâmina Modelo Seção  \\\n",
              "161  COMPLEXO EÓLICO PONTAL  P2A-05         1608   AL59    SS   \n",
              "178  COMPLEXO EÓLICO PONTAL  PA2-04         1832   AL59    SS   \n",
              "\n",
              "                                        Link da imagem             Tipo  \\\n",
              "161  https://winddataimgwindeuprd.blob.core.windows...  Seleant cracked   \n",
              "178  https://winddataimgwindeuprd.blob.core.windows...  Seleant cracked   \n",
              "\n",
              "     Altura(m)  Comprimento(mm)  Largura(mm)  \n",
              "161      58.92               10          290  \n",
              "178      58.92               10          290  "
            ],
            "text/html": [
              "\n",
              "  <div id=\"df-df6601be-8b9d-4e95-ae01-a8fb1afb0e27\">\n",
              "    <div class=\"colab-df-container\">\n",
              "      <div>\n",
              "<style scoped>\n",
              "    .dataframe tbody tr th:only-of-type {\n",
              "        vertical-align: middle;\n",
              "    }\n",
              "\n",
              "    .dataframe tbody tr th {\n",
              "        vertical-align: top;\n",
              "    }\n",
              "\n",
              "    .dataframe thead th {\n",
              "        text-align: right;\n",
              "    }\n",
              "</style>\n",
              "<table border=\"1\" class=\"dataframe\">\n",
              "  <thead>\n",
              "    <tr style=\"text-align: right;\">\n",
              "      <th></th>\n",
              "      <th>Parque Eólico</th>\n",
              "      <th>WTG ID</th>\n",
              "      <th>SN da lâmina</th>\n",
              "      <th>Modelo</th>\n",
              "      <th>Seção</th>\n",
              "      <th>Link da imagem</th>\n",
              "      <th>Tipo</th>\n",
              "      <th>Altura(m)</th>\n",
              "      <th>Comprimento(mm)</th>\n",
              "      <th>Largura(mm)</th>\n",
              "    </tr>\n",
              "  </thead>\n",
              "  <tbody>\n",
              "    <tr>\n",
              "      <th>161</th>\n",
              "      <td>COMPLEXO EÓLICO PONTAL</td>\n",
              "      <td>P2A-05</td>\n",
              "      <td>1608</td>\n",
              "      <td>AL59</td>\n",
              "      <td>SS</td>\n",
              "      <td>https://winddataimgwindeuprd.blob.core.windows...</td>\n",
              "      <td>Seleant cracked</td>\n",
              "      <td>58.92</td>\n",
              "      <td>10</td>\n",
              "      <td>290</td>\n",
              "    </tr>\n",
              "    <tr>\n",
              "      <th>178</th>\n",
              "      <td>COMPLEXO EÓLICO PONTAL</td>\n",
              "      <td>PA2-04</td>\n",
              "      <td>1832</td>\n",
              "      <td>AL59</td>\n",
              "      <td>SS</td>\n",
              "      <td>https://winddataimgwindeuprd.blob.core.windows...</td>\n",
              "      <td>Seleant cracked</td>\n",
              "      <td>58.92</td>\n",
              "      <td>10</td>\n",
              "      <td>290</td>\n",
              "    </tr>\n",
              "  </tbody>\n",
              "</table>\n",
              "</div>\n",
              "      <button class=\"colab-df-convert\" onclick=\"convertToInteractive('df-df6601be-8b9d-4e95-ae01-a8fb1afb0e27')\"\n",
              "              title=\"Convert this dataframe to an interactive table.\"\n",
              "              style=\"display:none;\">\n",
              "        \n",
              "  <svg xmlns=\"http://www.w3.org/2000/svg\" height=\"24px\"viewBox=\"0 0 24 24\"\n",
              "       width=\"24px\">\n",
              "    <path d=\"M0 0h24v24H0V0z\" fill=\"none\"/>\n",
              "    <path d=\"M18.56 5.44l.94 2.06.94-2.06 2.06-.94-2.06-.94-.94-2.06-.94 2.06-2.06.94zm-11 1L8.5 8.5l.94-2.06 2.06-.94-2.06-.94L8.5 2.5l-.94 2.06-2.06.94zm10 10l.94 2.06.94-2.06 2.06-.94-2.06-.94-.94-2.06-.94 2.06-2.06.94z\"/><path d=\"M17.41 7.96l-1.37-1.37c-.4-.4-.92-.59-1.43-.59-.52 0-1.04.2-1.43.59L10.3 9.45l-7.72 7.72c-.78.78-.78 2.05 0 2.83L4 21.41c.39.39.9.59 1.41.59.51 0 1.02-.2 1.41-.59l7.78-7.78 2.81-2.81c.8-.78.8-2.07 0-2.86zM5.41 20L4 18.59l7.72-7.72 1.47 1.35L5.41 20z\"/>\n",
              "  </svg>\n",
              "      </button>\n",
              "      \n",
              "  <style>\n",
              "    .colab-df-container {\n",
              "      display:flex;\n",
              "      flex-wrap:wrap;\n",
              "      gap: 12px;\n",
              "    }\n",
              "\n",
              "    .colab-df-convert {\n",
              "      background-color: #E8F0FE;\n",
              "      border: none;\n",
              "      border-radius: 50%;\n",
              "      cursor: pointer;\n",
              "      display: none;\n",
              "      fill: #1967D2;\n",
              "      height: 32px;\n",
              "      padding: 0 0 0 0;\n",
              "      width: 32px;\n",
              "    }\n",
              "\n",
              "    .colab-df-convert:hover {\n",
              "      background-color: #E2EBFA;\n",
              "      box-shadow: 0px 1px 2px rgba(60, 64, 67, 0.3), 0px 1px 3px 1px rgba(60, 64, 67, 0.15);\n",
              "      fill: #174EA6;\n",
              "    }\n",
              "\n",
              "    [theme=dark] .colab-df-convert {\n",
              "      background-color: #3B4455;\n",
              "      fill: #D2E3FC;\n",
              "    }\n",
              "\n",
              "    [theme=dark] .colab-df-convert:hover {\n",
              "      background-color: #434B5C;\n",
              "      box-shadow: 0px 1px 3px 1px rgba(0, 0, 0, 0.15);\n",
              "      filter: drop-shadow(0px 1px 2px rgba(0, 0, 0, 0.3));\n",
              "      fill: #FFFFFF;\n",
              "    }\n",
              "  </style>\n",
              "\n",
              "      <script>\n",
              "        const buttonEl =\n",
              "          document.querySelector('#df-df6601be-8b9d-4e95-ae01-a8fb1afb0e27 button.colab-df-convert');\n",
              "        buttonEl.style.display =\n",
              "          google.colab.kernel.accessAllowed ? 'block' : 'none';\n",
              "\n",
              "        async function convertToInteractive(key) {\n",
              "          const element = document.querySelector('#df-df6601be-8b9d-4e95-ae01-a8fb1afb0e27');\n",
              "          const dataTable =\n",
              "            await google.colab.kernel.invokeFunction('convertToInteractive',\n",
              "                                                     [key], {});\n",
              "          if (!dataTable) return;\n",
              "\n",
              "          const docLinkHtml = 'Like what you see? Visit the ' +\n",
              "            '<a target=\"_blank\" href=https://colab.research.google.com/notebooks/data_table.ipynb>data table notebook</a>'\n",
              "            + ' to learn more about interactive tables.';\n",
              "          element.innerHTML = '';\n",
              "          dataTable['output_type'] = 'display_data';\n",
              "          await google.colab.output.renderOutput(dataTable, element);\n",
              "          const docLink = document.createElement('div');\n",
              "          docLink.innerHTML = docLinkHtml;\n",
              "          element.appendChild(docLink);\n",
              "        }\n",
              "      </script>\n",
              "    </div>\n",
              "  </div>\n",
              "  "
            ]
          },
          "metadata": {},
          "execution_count": 183
        }
      ]
    },
    {
      "cell_type": "code",
      "source": [
        "#Problema localizado na menor altura\n",
        "df[df['Altura(m)']==df['Altura(m)'].min()]"
      ],
      "metadata": {
        "colab": {
          "base_uri": "https://localhost:8080/",
          "height": 197
        },
        "id": "HbDZSCQPPg0n",
        "outputId": "bef15c63-71b7-4790-c95e-fa1bc04bef57"
      },
      "execution_count": null,
      "outputs": [
        {
          "output_type": "execute_result",
          "data": {
            "text/plain": [
              "             Parque Eólico  WTG ID SN da lâmina  Modelo Seção  \\\n",
              "22  COMPLEXO EÓLICO PONTAL  P2B-02         2364  48.7XL    LE   \n",
              "\n",
              "                                       Link da imagem                Tipo  \\\n",
              "22  https://winddataimgwindeuprd.blob.core.windows...  Top Coat - Peeling   \n",
              "\n",
              "    Altura(m)  Comprimento(mm)  Largura(mm)  \n",
              "22       1.94              500          500  "
            ],
            "text/html": [
              "\n",
              "  <div id=\"df-1b2fe914-aff9-43b1-a3f0-8bf95e01ca8b\">\n",
              "    <div class=\"colab-df-container\">\n",
              "      <div>\n",
              "<style scoped>\n",
              "    .dataframe tbody tr th:only-of-type {\n",
              "        vertical-align: middle;\n",
              "    }\n",
              "\n",
              "    .dataframe tbody tr th {\n",
              "        vertical-align: top;\n",
              "    }\n",
              "\n",
              "    .dataframe thead th {\n",
              "        text-align: right;\n",
              "    }\n",
              "</style>\n",
              "<table border=\"1\" class=\"dataframe\">\n",
              "  <thead>\n",
              "    <tr style=\"text-align: right;\">\n",
              "      <th></th>\n",
              "      <th>Parque Eólico</th>\n",
              "      <th>WTG ID</th>\n",
              "      <th>SN da lâmina</th>\n",
              "      <th>Modelo</th>\n",
              "      <th>Seção</th>\n",
              "      <th>Link da imagem</th>\n",
              "      <th>Tipo</th>\n",
              "      <th>Altura(m)</th>\n",
              "      <th>Comprimento(mm)</th>\n",
              "      <th>Largura(mm)</th>\n",
              "    </tr>\n",
              "  </thead>\n",
              "  <tbody>\n",
              "    <tr>\n",
              "      <th>22</th>\n",
              "      <td>COMPLEXO EÓLICO PONTAL</td>\n",
              "      <td>P2B-02</td>\n",
              "      <td>2364</td>\n",
              "      <td>48.7XL</td>\n",
              "      <td>LE</td>\n",
              "      <td>https://winddataimgwindeuprd.blob.core.windows...</td>\n",
              "      <td>Top Coat - Peeling</td>\n",
              "      <td>1.94</td>\n",
              "      <td>500</td>\n",
              "      <td>500</td>\n",
              "    </tr>\n",
              "  </tbody>\n",
              "</table>\n",
              "</div>\n",
              "      <button class=\"colab-df-convert\" onclick=\"convertToInteractive('df-1b2fe914-aff9-43b1-a3f0-8bf95e01ca8b')\"\n",
              "              title=\"Convert this dataframe to an interactive table.\"\n",
              "              style=\"display:none;\">\n",
              "        \n",
              "  <svg xmlns=\"http://www.w3.org/2000/svg\" height=\"24px\"viewBox=\"0 0 24 24\"\n",
              "       width=\"24px\">\n",
              "    <path d=\"M0 0h24v24H0V0z\" fill=\"none\"/>\n",
              "    <path d=\"M18.56 5.44l.94 2.06.94-2.06 2.06-.94-2.06-.94-.94-2.06-.94 2.06-2.06.94zm-11 1L8.5 8.5l.94-2.06 2.06-.94-2.06-.94L8.5 2.5l-.94 2.06-2.06.94zm10 10l.94 2.06.94-2.06 2.06-.94-2.06-.94-.94-2.06-.94 2.06-2.06.94z\"/><path d=\"M17.41 7.96l-1.37-1.37c-.4-.4-.92-.59-1.43-.59-.52 0-1.04.2-1.43.59L10.3 9.45l-7.72 7.72c-.78.78-.78 2.05 0 2.83L4 21.41c.39.39.9.59 1.41.59.51 0 1.02-.2 1.41-.59l7.78-7.78 2.81-2.81c.8-.78.8-2.07 0-2.86zM5.41 20L4 18.59l7.72-7.72 1.47 1.35L5.41 20z\"/>\n",
              "  </svg>\n",
              "      </button>\n",
              "      \n",
              "  <style>\n",
              "    .colab-df-container {\n",
              "      display:flex;\n",
              "      flex-wrap:wrap;\n",
              "      gap: 12px;\n",
              "    }\n",
              "\n",
              "    .colab-df-convert {\n",
              "      background-color: #E8F0FE;\n",
              "      border: none;\n",
              "      border-radius: 50%;\n",
              "      cursor: pointer;\n",
              "      display: none;\n",
              "      fill: #1967D2;\n",
              "      height: 32px;\n",
              "      padding: 0 0 0 0;\n",
              "      width: 32px;\n",
              "    }\n",
              "\n",
              "    .colab-df-convert:hover {\n",
              "      background-color: #E2EBFA;\n",
              "      box-shadow: 0px 1px 2px rgba(60, 64, 67, 0.3), 0px 1px 3px 1px rgba(60, 64, 67, 0.15);\n",
              "      fill: #174EA6;\n",
              "    }\n",
              "\n",
              "    [theme=dark] .colab-df-convert {\n",
              "      background-color: #3B4455;\n",
              "      fill: #D2E3FC;\n",
              "    }\n",
              "\n",
              "    [theme=dark] .colab-df-convert:hover {\n",
              "      background-color: #434B5C;\n",
              "      box-shadow: 0px 1px 3px 1px rgba(0, 0, 0, 0.15);\n",
              "      filter: drop-shadow(0px 1px 2px rgba(0, 0, 0, 0.3));\n",
              "      fill: #FFFFFF;\n",
              "    }\n",
              "  </style>\n",
              "\n",
              "      <script>\n",
              "        const buttonEl =\n",
              "          document.querySelector('#df-1b2fe914-aff9-43b1-a3f0-8bf95e01ca8b button.colab-df-convert');\n",
              "        buttonEl.style.display =\n",
              "          google.colab.kernel.accessAllowed ? 'block' : 'none';\n",
              "\n",
              "        async function convertToInteractive(key) {\n",
              "          const element = document.querySelector('#df-1b2fe914-aff9-43b1-a3f0-8bf95e01ca8b');\n",
              "          const dataTable =\n",
              "            await google.colab.kernel.invokeFunction('convertToInteractive',\n",
              "                                                     [key], {});\n",
              "          if (!dataTable) return;\n",
              "\n",
              "          const docLinkHtml = 'Like what you see? Visit the ' +\n",
              "            '<a target=\"_blank\" href=https://colab.research.google.com/notebooks/data_table.ipynb>data table notebook</a>'\n",
              "            + ' to learn more about interactive tables.';\n",
              "          element.innerHTML = '';\n",
              "          dataTable['output_type'] = 'display_data';\n",
              "          await google.colab.output.renderOutput(dataTable, element);\n",
              "          const docLink = document.createElement('div');\n",
              "          docLink.innerHTML = docLinkHtml;\n",
              "          element.appendChild(docLink);\n",
              "        }\n",
              "      </script>\n",
              "    </div>\n",
              "  </div>\n",
              "  "
            ]
          },
          "metadata": {},
          "execution_count": 184
        }
      ]
    },
    {
      "cell_type": "markdown",
      "source": [
        "Para efeitos de teste, consideramos que os problemas estejam em forma retangular. Assim, podemos calcular sua área no formato **area = comprimento x largura** e então descobrir a maior e menor área. Iremos adicionar a área em uma nova coluna do DataFrame original."
      ],
      "metadata": {
        "id": "j5_Er-dmQCmg"
      }
    },
    {
      "cell_type": "code",
      "source": [
        "#Adicionando coluna 'Área(mm)'\n",
        "df['Area(mm)'] = df['Comprimento(mm)'] * df['Largura(mm)']\n",
        "df.sample(10)"
      ],
      "metadata": {
        "colab": {
          "base_uri": "https://localhost:8080/",
          "height": 792
        },
        "id": "wDJyxWxOPl6H",
        "outputId": "ba365285-d8d0-41be-85dc-580dd35c88bc"
      },
      "execution_count": null,
      "outputs": [
        {
          "output_type": "execute_result",
          "data": {
            "text/plain": [
              "              Parque Eólico  WTG ID SN da lâmina  Modelo Seção  \\\n",
              "33   COMPLEXO EÓLICO PONTAL  P2B-02         2364  48.7XL    LE   \n",
              "156  COMPLEXO EÓLICO PONTAL  P2A-05         1608    AL59    LE   \n",
              "67   COMPLEXO EÓLICO PONTAL  P3B-05         1602    AL59    LE   \n",
              "183  COMPLEXO EÓLICO PONTAL  P2A-01         1618    AL59    LE   \n",
              "189  COMPLEXO EÓLICO PONTAL  P2A-01         1618    AL59    PS   \n",
              "6    COMPLEXO EÓLICO PONTAL  P2B-02         2035  48.7XL    LE   \n",
              "201  COMPLEXO EÓLICO PONTAL  P2A-01         1627    AL59    LE   \n",
              "69   COMPLEXO EÓLICO PONTAL  P3B-05         1602    AL59    LE   \n",
              "20   COMPLEXO EÓLICO PONTAL  P2B-02         2035  48.7XL    SS   \n",
              "101  COMPLEXO EÓLICO PONTAL  P2B-06         2688  48.7XL    LE   \n",
              "\n",
              "                                        Link da imagem  \\\n",
              "33   https://winddataimgwindeuprd.blob.core.windows...   \n",
              "156  https://winddataimgwindeuprd.blob.core.windows...   \n",
              "67   https://winddataimgwindeuprd.blob.core.windows...   \n",
              "183  https://winddataimgwindeuprd.blob.core.windows...   \n",
              "189  https://winddataimgwindeuprd.blob.core.windows...   \n",
              "6    https://winddataimgwindeuprd.blob.core.windows...   \n",
              "201  https://winddataimgwindeuprd.blob.core.windows...   \n",
              "69   https://winddataimgwindeuprd.blob.core.windows...   \n",
              "20   https://winddataimgwindeuprd.blob.core.windows...   \n",
              "101  https://winddataimgwindeuprd.blob.core.windows...   \n",
              "\n",
              "                              Tipo  Altura(m)  Comprimento(mm)  Largura(mm)  \\\n",
              "33              Top Coat - Peeling      31.03              740           70   \n",
              "156             Top Coat - Pitting      47.58               20           10   \n",
              "67   Top Coat - Eorosion in the LE      57.63             1000           30   \n",
              "183             Top Coat - Pitting      40.59             1000           10   \n",
              "189   Top Coat - Superficial Crack      39.31               50           50   \n",
              "6               Top Coat - Peeling      22.76             6000          242   \n",
              "201  Top Coat - Eorosion in the LE      57.81             1500           50   \n",
              "69                           Fungi      15.69             4000         1000   \n",
              "20              Top Coat - Peeling      30.60              360          788   \n",
              "101   Top Coat - Superficial Crack      11.41               75           10   \n",
              "\n",
              "     Area(mm)  \n",
              "33      51800  \n",
              "156       200  \n",
              "67      30000  \n",
              "183     10000  \n",
              "189      2500  \n",
              "6     1452000  \n",
              "201     75000  \n",
              "69    4000000  \n",
              "20     283680  \n",
              "101       750  "
            ],
            "text/html": [
              "\n",
              "  <div id=\"df-ae36745c-9669-4eb1-a92b-226fdc3af62f\">\n",
              "    <div class=\"colab-df-container\">\n",
              "      <div>\n",
              "<style scoped>\n",
              "    .dataframe tbody tr th:only-of-type {\n",
              "        vertical-align: middle;\n",
              "    }\n",
              "\n",
              "    .dataframe tbody tr th {\n",
              "        vertical-align: top;\n",
              "    }\n",
              "\n",
              "    .dataframe thead th {\n",
              "        text-align: right;\n",
              "    }\n",
              "</style>\n",
              "<table border=\"1\" class=\"dataframe\">\n",
              "  <thead>\n",
              "    <tr style=\"text-align: right;\">\n",
              "      <th></th>\n",
              "      <th>Parque Eólico</th>\n",
              "      <th>WTG ID</th>\n",
              "      <th>SN da lâmina</th>\n",
              "      <th>Modelo</th>\n",
              "      <th>Seção</th>\n",
              "      <th>Link da imagem</th>\n",
              "      <th>Tipo</th>\n",
              "      <th>Altura(m)</th>\n",
              "      <th>Comprimento(mm)</th>\n",
              "      <th>Largura(mm)</th>\n",
              "      <th>Area(mm)</th>\n",
              "    </tr>\n",
              "  </thead>\n",
              "  <tbody>\n",
              "    <tr>\n",
              "      <th>33</th>\n",
              "      <td>COMPLEXO EÓLICO PONTAL</td>\n",
              "      <td>P2B-02</td>\n",
              "      <td>2364</td>\n",
              "      <td>48.7XL</td>\n",
              "      <td>LE</td>\n",
              "      <td>https://winddataimgwindeuprd.blob.core.windows...</td>\n",
              "      <td>Top Coat - Peeling</td>\n",
              "      <td>31.03</td>\n",
              "      <td>740</td>\n",
              "      <td>70</td>\n",
              "      <td>51800</td>\n",
              "    </tr>\n",
              "    <tr>\n",
              "      <th>156</th>\n",
              "      <td>COMPLEXO EÓLICO PONTAL</td>\n",
              "      <td>P2A-05</td>\n",
              "      <td>1608</td>\n",
              "      <td>AL59</td>\n",
              "      <td>LE</td>\n",
              "      <td>https://winddataimgwindeuprd.blob.core.windows...</td>\n",
              "      <td>Top Coat - Pitting</td>\n",
              "      <td>47.58</td>\n",
              "      <td>20</td>\n",
              "      <td>10</td>\n",
              "      <td>200</td>\n",
              "    </tr>\n",
              "    <tr>\n",
              "      <th>67</th>\n",
              "      <td>COMPLEXO EÓLICO PONTAL</td>\n",
              "      <td>P3B-05</td>\n",
              "      <td>1602</td>\n",
              "      <td>AL59</td>\n",
              "      <td>LE</td>\n",
              "      <td>https://winddataimgwindeuprd.blob.core.windows...</td>\n",
              "      <td>Top Coat - Eorosion in the LE</td>\n",
              "      <td>57.63</td>\n",
              "      <td>1000</td>\n",
              "      <td>30</td>\n",
              "      <td>30000</td>\n",
              "    </tr>\n",
              "    <tr>\n",
              "      <th>183</th>\n",
              "      <td>COMPLEXO EÓLICO PONTAL</td>\n",
              "      <td>P2A-01</td>\n",
              "      <td>1618</td>\n",
              "      <td>AL59</td>\n",
              "      <td>LE</td>\n",
              "      <td>https://winddataimgwindeuprd.blob.core.windows...</td>\n",
              "      <td>Top Coat - Pitting</td>\n",
              "      <td>40.59</td>\n",
              "      <td>1000</td>\n",
              "      <td>10</td>\n",
              "      <td>10000</td>\n",
              "    </tr>\n",
              "    <tr>\n",
              "      <th>189</th>\n",
              "      <td>COMPLEXO EÓLICO PONTAL</td>\n",
              "      <td>P2A-01</td>\n",
              "      <td>1618</td>\n",
              "      <td>AL59</td>\n",
              "      <td>PS</td>\n",
              "      <td>https://winddataimgwindeuprd.blob.core.windows...</td>\n",
              "      <td>Top Coat - Superficial Crack</td>\n",
              "      <td>39.31</td>\n",
              "      <td>50</td>\n",
              "      <td>50</td>\n",
              "      <td>2500</td>\n",
              "    </tr>\n",
              "    <tr>\n",
              "      <th>6</th>\n",
              "      <td>COMPLEXO EÓLICO PONTAL</td>\n",
              "      <td>P2B-02</td>\n",
              "      <td>2035</td>\n",
              "      <td>48.7XL</td>\n",
              "      <td>LE</td>\n",
              "      <td>https://winddataimgwindeuprd.blob.core.windows...</td>\n",
              "      <td>Top Coat - Peeling</td>\n",
              "      <td>22.76</td>\n",
              "      <td>6000</td>\n",
              "      <td>242</td>\n",
              "      <td>1452000</td>\n",
              "    </tr>\n",
              "    <tr>\n",
              "      <th>201</th>\n",
              "      <td>COMPLEXO EÓLICO PONTAL</td>\n",
              "      <td>P2A-01</td>\n",
              "      <td>1627</td>\n",
              "      <td>AL59</td>\n",
              "      <td>LE</td>\n",
              "      <td>https://winddataimgwindeuprd.blob.core.windows...</td>\n",
              "      <td>Top Coat - Eorosion in the LE</td>\n",
              "      <td>57.81</td>\n",
              "      <td>1500</td>\n",
              "      <td>50</td>\n",
              "      <td>75000</td>\n",
              "    </tr>\n",
              "    <tr>\n",
              "      <th>69</th>\n",
              "      <td>COMPLEXO EÓLICO PONTAL</td>\n",
              "      <td>P3B-05</td>\n",
              "      <td>1602</td>\n",
              "      <td>AL59</td>\n",
              "      <td>LE</td>\n",
              "      <td>https://winddataimgwindeuprd.blob.core.windows...</td>\n",
              "      <td>Fungi</td>\n",
              "      <td>15.69</td>\n",
              "      <td>4000</td>\n",
              "      <td>1000</td>\n",
              "      <td>4000000</td>\n",
              "    </tr>\n",
              "    <tr>\n",
              "      <th>20</th>\n",
              "      <td>COMPLEXO EÓLICO PONTAL</td>\n",
              "      <td>P2B-02</td>\n",
              "      <td>2035</td>\n",
              "      <td>48.7XL</td>\n",
              "      <td>SS</td>\n",
              "      <td>https://winddataimgwindeuprd.blob.core.windows...</td>\n",
              "      <td>Top Coat - Peeling</td>\n",
              "      <td>30.60</td>\n",
              "      <td>360</td>\n",
              "      <td>788</td>\n",
              "      <td>283680</td>\n",
              "    </tr>\n",
              "    <tr>\n",
              "      <th>101</th>\n",
              "      <td>COMPLEXO EÓLICO PONTAL</td>\n",
              "      <td>P2B-06</td>\n",
              "      <td>2688</td>\n",
              "      <td>48.7XL</td>\n",
              "      <td>LE</td>\n",
              "      <td>https://winddataimgwindeuprd.blob.core.windows...</td>\n",
              "      <td>Top Coat - Superficial Crack</td>\n",
              "      <td>11.41</td>\n",
              "      <td>75</td>\n",
              "      <td>10</td>\n",
              "      <td>750</td>\n",
              "    </tr>\n",
              "  </tbody>\n",
              "</table>\n",
              "</div>\n",
              "      <button class=\"colab-df-convert\" onclick=\"convertToInteractive('df-ae36745c-9669-4eb1-a92b-226fdc3af62f')\"\n",
              "              title=\"Convert this dataframe to an interactive table.\"\n",
              "              style=\"display:none;\">\n",
              "        \n",
              "  <svg xmlns=\"http://www.w3.org/2000/svg\" height=\"24px\"viewBox=\"0 0 24 24\"\n",
              "       width=\"24px\">\n",
              "    <path d=\"M0 0h24v24H0V0z\" fill=\"none\"/>\n",
              "    <path d=\"M18.56 5.44l.94 2.06.94-2.06 2.06-.94-2.06-.94-.94-2.06-.94 2.06-2.06.94zm-11 1L8.5 8.5l.94-2.06 2.06-.94-2.06-.94L8.5 2.5l-.94 2.06-2.06.94zm10 10l.94 2.06.94-2.06 2.06-.94-2.06-.94-.94-2.06-.94 2.06-2.06.94z\"/><path d=\"M17.41 7.96l-1.37-1.37c-.4-.4-.92-.59-1.43-.59-.52 0-1.04.2-1.43.59L10.3 9.45l-7.72 7.72c-.78.78-.78 2.05 0 2.83L4 21.41c.39.39.9.59 1.41.59.51 0 1.02-.2 1.41-.59l7.78-7.78 2.81-2.81c.8-.78.8-2.07 0-2.86zM5.41 20L4 18.59l7.72-7.72 1.47 1.35L5.41 20z\"/>\n",
              "  </svg>\n",
              "      </button>\n",
              "      \n",
              "  <style>\n",
              "    .colab-df-container {\n",
              "      display:flex;\n",
              "      flex-wrap:wrap;\n",
              "      gap: 12px;\n",
              "    }\n",
              "\n",
              "    .colab-df-convert {\n",
              "      background-color: #E8F0FE;\n",
              "      border: none;\n",
              "      border-radius: 50%;\n",
              "      cursor: pointer;\n",
              "      display: none;\n",
              "      fill: #1967D2;\n",
              "      height: 32px;\n",
              "      padding: 0 0 0 0;\n",
              "      width: 32px;\n",
              "    }\n",
              "\n",
              "    .colab-df-convert:hover {\n",
              "      background-color: #E2EBFA;\n",
              "      box-shadow: 0px 1px 2px rgba(60, 64, 67, 0.3), 0px 1px 3px 1px rgba(60, 64, 67, 0.15);\n",
              "      fill: #174EA6;\n",
              "    }\n",
              "\n",
              "    [theme=dark] .colab-df-convert {\n",
              "      background-color: #3B4455;\n",
              "      fill: #D2E3FC;\n",
              "    }\n",
              "\n",
              "    [theme=dark] .colab-df-convert:hover {\n",
              "      background-color: #434B5C;\n",
              "      box-shadow: 0px 1px 3px 1px rgba(0, 0, 0, 0.15);\n",
              "      filter: drop-shadow(0px 1px 2px rgba(0, 0, 0, 0.3));\n",
              "      fill: #FFFFFF;\n",
              "    }\n",
              "  </style>\n",
              "\n",
              "      <script>\n",
              "        const buttonEl =\n",
              "          document.querySelector('#df-ae36745c-9669-4eb1-a92b-226fdc3af62f button.colab-df-convert');\n",
              "        buttonEl.style.display =\n",
              "          google.colab.kernel.accessAllowed ? 'block' : 'none';\n",
              "\n",
              "        async function convertToInteractive(key) {\n",
              "          const element = document.querySelector('#df-ae36745c-9669-4eb1-a92b-226fdc3af62f');\n",
              "          const dataTable =\n",
              "            await google.colab.kernel.invokeFunction('convertToInteractive',\n",
              "                                                     [key], {});\n",
              "          if (!dataTable) return;\n",
              "\n",
              "          const docLinkHtml = 'Like what you see? Visit the ' +\n",
              "            '<a target=\"_blank\" href=https://colab.research.google.com/notebooks/data_table.ipynb>data table notebook</a>'\n",
              "            + ' to learn more about interactive tables.';\n",
              "          element.innerHTML = '';\n",
              "          dataTable['output_type'] = 'display_data';\n",
              "          await google.colab.output.renderOutput(dataTable, element);\n",
              "          const docLink = document.createElement('div');\n",
              "          docLink.innerHTML = docLinkHtml;\n",
              "          element.appendChild(docLink);\n",
              "        }\n",
              "      </script>\n",
              "    </div>\n",
              "  </div>\n",
              "  "
            ]
          },
          "metadata": {},
          "execution_count": 185
        }
      ]
    },
    {
      "cell_type": "code",
      "source": [
        "#Maior problema (maior área)\n",
        "df[df['Area(mm)']==df['Area(mm)'].max()]"
      ],
      "metadata": {
        "colab": {
          "base_uri": "https://localhost:8080/",
          "height": 197
        },
        "id": "08u8j9A7Rgtp",
        "outputId": "e878de2a-2f85-4e59-e153-d67d0a7d7a63"
      },
      "execution_count": null,
      "outputs": [
        {
          "output_type": "execute_result",
          "data": {
            "text/plain": [
              "             Parque Eólico  WTG ID SN da lâmina  Modelo Seção  \\\n",
              "12  COMPLEXO EÓLICO PONTAL  P2B-02         2035  48.7XL    PS   \n",
              "\n",
              "                                       Link da imagem                Tipo  \\\n",
              "12  https://winddataimgwindeuprd.blob.core.windows...  Top Coat - Peeling   \n",
              "\n",
              "    Altura(m)  Comprimento(mm)  Largura(mm)  Area(mm)  \n",
              "12      17.51             6000         2966  17796000  "
            ],
            "text/html": [
              "\n",
              "  <div id=\"df-d224d0e5-d753-4edc-93c7-c9474922a98d\">\n",
              "    <div class=\"colab-df-container\">\n",
              "      <div>\n",
              "<style scoped>\n",
              "    .dataframe tbody tr th:only-of-type {\n",
              "        vertical-align: middle;\n",
              "    }\n",
              "\n",
              "    .dataframe tbody tr th {\n",
              "        vertical-align: top;\n",
              "    }\n",
              "\n",
              "    .dataframe thead th {\n",
              "        text-align: right;\n",
              "    }\n",
              "</style>\n",
              "<table border=\"1\" class=\"dataframe\">\n",
              "  <thead>\n",
              "    <tr style=\"text-align: right;\">\n",
              "      <th></th>\n",
              "      <th>Parque Eólico</th>\n",
              "      <th>WTG ID</th>\n",
              "      <th>SN da lâmina</th>\n",
              "      <th>Modelo</th>\n",
              "      <th>Seção</th>\n",
              "      <th>Link da imagem</th>\n",
              "      <th>Tipo</th>\n",
              "      <th>Altura(m)</th>\n",
              "      <th>Comprimento(mm)</th>\n",
              "      <th>Largura(mm)</th>\n",
              "      <th>Area(mm)</th>\n",
              "    </tr>\n",
              "  </thead>\n",
              "  <tbody>\n",
              "    <tr>\n",
              "      <th>12</th>\n",
              "      <td>COMPLEXO EÓLICO PONTAL</td>\n",
              "      <td>P2B-02</td>\n",
              "      <td>2035</td>\n",
              "      <td>48.7XL</td>\n",
              "      <td>PS</td>\n",
              "      <td>https://winddataimgwindeuprd.blob.core.windows...</td>\n",
              "      <td>Top Coat - Peeling</td>\n",
              "      <td>17.51</td>\n",
              "      <td>6000</td>\n",
              "      <td>2966</td>\n",
              "      <td>17796000</td>\n",
              "    </tr>\n",
              "  </tbody>\n",
              "</table>\n",
              "</div>\n",
              "      <button class=\"colab-df-convert\" onclick=\"convertToInteractive('df-d224d0e5-d753-4edc-93c7-c9474922a98d')\"\n",
              "              title=\"Convert this dataframe to an interactive table.\"\n",
              "              style=\"display:none;\">\n",
              "        \n",
              "  <svg xmlns=\"http://www.w3.org/2000/svg\" height=\"24px\"viewBox=\"0 0 24 24\"\n",
              "       width=\"24px\">\n",
              "    <path d=\"M0 0h24v24H0V0z\" fill=\"none\"/>\n",
              "    <path d=\"M18.56 5.44l.94 2.06.94-2.06 2.06-.94-2.06-.94-.94-2.06-.94 2.06-2.06.94zm-11 1L8.5 8.5l.94-2.06 2.06-.94-2.06-.94L8.5 2.5l-.94 2.06-2.06.94zm10 10l.94 2.06.94-2.06 2.06-.94-2.06-.94-.94-2.06-.94 2.06-2.06.94z\"/><path d=\"M17.41 7.96l-1.37-1.37c-.4-.4-.92-.59-1.43-.59-.52 0-1.04.2-1.43.59L10.3 9.45l-7.72 7.72c-.78.78-.78 2.05 0 2.83L4 21.41c.39.39.9.59 1.41.59.51 0 1.02-.2 1.41-.59l7.78-7.78 2.81-2.81c.8-.78.8-2.07 0-2.86zM5.41 20L4 18.59l7.72-7.72 1.47 1.35L5.41 20z\"/>\n",
              "  </svg>\n",
              "      </button>\n",
              "      \n",
              "  <style>\n",
              "    .colab-df-container {\n",
              "      display:flex;\n",
              "      flex-wrap:wrap;\n",
              "      gap: 12px;\n",
              "    }\n",
              "\n",
              "    .colab-df-convert {\n",
              "      background-color: #E8F0FE;\n",
              "      border: none;\n",
              "      border-radius: 50%;\n",
              "      cursor: pointer;\n",
              "      display: none;\n",
              "      fill: #1967D2;\n",
              "      height: 32px;\n",
              "      padding: 0 0 0 0;\n",
              "      width: 32px;\n",
              "    }\n",
              "\n",
              "    .colab-df-convert:hover {\n",
              "      background-color: #E2EBFA;\n",
              "      box-shadow: 0px 1px 2px rgba(60, 64, 67, 0.3), 0px 1px 3px 1px rgba(60, 64, 67, 0.15);\n",
              "      fill: #174EA6;\n",
              "    }\n",
              "\n",
              "    [theme=dark] .colab-df-convert {\n",
              "      background-color: #3B4455;\n",
              "      fill: #D2E3FC;\n",
              "    }\n",
              "\n",
              "    [theme=dark] .colab-df-convert:hover {\n",
              "      background-color: #434B5C;\n",
              "      box-shadow: 0px 1px 3px 1px rgba(0, 0, 0, 0.15);\n",
              "      filter: drop-shadow(0px 1px 2px rgba(0, 0, 0, 0.3));\n",
              "      fill: #FFFFFF;\n",
              "    }\n",
              "  </style>\n",
              "\n",
              "      <script>\n",
              "        const buttonEl =\n",
              "          document.querySelector('#df-d224d0e5-d753-4edc-93c7-c9474922a98d button.colab-df-convert');\n",
              "        buttonEl.style.display =\n",
              "          google.colab.kernel.accessAllowed ? 'block' : 'none';\n",
              "\n",
              "        async function convertToInteractive(key) {\n",
              "          const element = document.querySelector('#df-d224d0e5-d753-4edc-93c7-c9474922a98d');\n",
              "          const dataTable =\n",
              "            await google.colab.kernel.invokeFunction('convertToInteractive',\n",
              "                                                     [key], {});\n",
              "          if (!dataTable) return;\n",
              "\n",
              "          const docLinkHtml = 'Like what you see? Visit the ' +\n",
              "            '<a target=\"_blank\" href=https://colab.research.google.com/notebooks/data_table.ipynb>data table notebook</a>'\n",
              "            + ' to learn more about interactive tables.';\n",
              "          element.innerHTML = '';\n",
              "          dataTable['output_type'] = 'display_data';\n",
              "          await google.colab.output.renderOutput(dataTable, element);\n",
              "          const docLink = document.createElement('div');\n",
              "          docLink.innerHTML = docLinkHtml;\n",
              "          element.appendChild(docLink);\n",
              "        }\n",
              "      </script>\n",
              "    </div>\n",
              "  </div>\n",
              "  "
            ]
          },
          "metadata": {},
          "execution_count": 186
        }
      ]
    },
    {
      "cell_type": "code",
      "source": [
        "#Menor problema (menor área)\n",
        "df[df['Area(mm)']==df['Area(mm)'].min()]"
      ],
      "metadata": {
        "colab": {
          "base_uri": "https://localhost:8080/",
          "height": 593
        },
        "id": "QhO76AqsR2m_",
        "outputId": "1190f847-c697-4aa7-b162-ae27a78ce707"
      },
      "execution_count": null,
      "outputs": [
        {
          "output_type": "execute_result",
          "data": {
            "text/plain": [
              "              Parque Eólico  WTG ID SN da lâmina  Modelo Seção  \\\n",
              "47   COMPLEXO EÓLICO PONTAL  P2B-02         2364  48.7XL    PS   \n",
              "52   COMPLEXO EÓLICO PONTAL  P2B-02         2364  48.7XL    SS   \n",
              "84   COMPLEXO EÓLICO PONTAL  P3B-05         1615    AL59    LE   \n",
              "123  COMPLEXO EÓLICO PONTAL  P2B-06         2396  48.7XL    PS   \n",
              "150  COMPLEXO EÓLICO PONTAL  P2B-07         2940  48.7XL    LE   \n",
              "199  COMPLEXO EÓLICO PONTAL  P2A-01         1626    AL59    SS   \n",
              "202  COMPLEXO EÓLICO PONTAL  P2A-01         1627    AL59    PS   \n",
              "\n",
              "                                        Link da imagem  \\\n",
              "47   https://winddataimgwindeuprd.blob.core.windows...   \n",
              "52   https://winddataimgwindeuprd.blob.core.windows...   \n",
              "84   https://winddataimgwindeuprd.blob.core.windows...   \n",
              "123  https://winddataimgwindeuprd.blob.core.windows...   \n",
              "150  https://winddataimgwindeuprd.blob.core.windows...   \n",
              "199  https://winddataimgwindeuprd.blob.core.windows...   \n",
              "202  https://winddataimgwindeuprd.blob.core.windows...   \n",
              "\n",
              "                             Tipo  Altura(m)  Comprimento(mm)  Largura(mm)  \\\n",
              "47          Drain Hole Obstructed      48.37               10           10   \n",
              "52             Top Coat - Peeling      42.89               10           10   \n",
              "84             Top Coat - Pitting      31.57               10           10   \n",
              "123            Top Coat - Pitting       6.07               10           10   \n",
              "150            Top Coat - Pitting      29.60               10           10   \n",
              "199            Top Coat - Pitting      24.71               10           10   \n",
              "202  Top Coat - Superficial Crack      41.54               10           10   \n",
              "\n",
              "     Area(mm)  \n",
              "47        100  \n",
              "52        100  \n",
              "84        100  \n",
              "123       100  \n",
              "150       100  \n",
              "199       100  \n",
              "202       100  "
            ],
            "text/html": [
              "\n",
              "  <div id=\"df-4667f91b-9780-42db-8afc-9e6c3e9f817f\">\n",
              "    <div class=\"colab-df-container\">\n",
              "      <div>\n",
              "<style scoped>\n",
              "    .dataframe tbody tr th:only-of-type {\n",
              "        vertical-align: middle;\n",
              "    }\n",
              "\n",
              "    .dataframe tbody tr th {\n",
              "        vertical-align: top;\n",
              "    }\n",
              "\n",
              "    .dataframe thead th {\n",
              "        text-align: right;\n",
              "    }\n",
              "</style>\n",
              "<table border=\"1\" class=\"dataframe\">\n",
              "  <thead>\n",
              "    <tr style=\"text-align: right;\">\n",
              "      <th></th>\n",
              "      <th>Parque Eólico</th>\n",
              "      <th>WTG ID</th>\n",
              "      <th>SN da lâmina</th>\n",
              "      <th>Modelo</th>\n",
              "      <th>Seção</th>\n",
              "      <th>Link da imagem</th>\n",
              "      <th>Tipo</th>\n",
              "      <th>Altura(m)</th>\n",
              "      <th>Comprimento(mm)</th>\n",
              "      <th>Largura(mm)</th>\n",
              "      <th>Area(mm)</th>\n",
              "    </tr>\n",
              "  </thead>\n",
              "  <tbody>\n",
              "    <tr>\n",
              "      <th>47</th>\n",
              "      <td>COMPLEXO EÓLICO PONTAL</td>\n",
              "      <td>P2B-02</td>\n",
              "      <td>2364</td>\n",
              "      <td>48.7XL</td>\n",
              "      <td>PS</td>\n",
              "      <td>https://winddataimgwindeuprd.blob.core.windows...</td>\n",
              "      <td>Drain Hole Obstructed</td>\n",
              "      <td>48.37</td>\n",
              "      <td>10</td>\n",
              "      <td>10</td>\n",
              "      <td>100</td>\n",
              "    </tr>\n",
              "    <tr>\n",
              "      <th>52</th>\n",
              "      <td>COMPLEXO EÓLICO PONTAL</td>\n",
              "      <td>P2B-02</td>\n",
              "      <td>2364</td>\n",
              "      <td>48.7XL</td>\n",
              "      <td>SS</td>\n",
              "      <td>https://winddataimgwindeuprd.blob.core.windows...</td>\n",
              "      <td>Top Coat - Peeling</td>\n",
              "      <td>42.89</td>\n",
              "      <td>10</td>\n",
              "      <td>10</td>\n",
              "      <td>100</td>\n",
              "    </tr>\n",
              "    <tr>\n",
              "      <th>84</th>\n",
              "      <td>COMPLEXO EÓLICO PONTAL</td>\n",
              "      <td>P3B-05</td>\n",
              "      <td>1615</td>\n",
              "      <td>AL59</td>\n",
              "      <td>LE</td>\n",
              "      <td>https://winddataimgwindeuprd.blob.core.windows...</td>\n",
              "      <td>Top Coat - Pitting</td>\n",
              "      <td>31.57</td>\n",
              "      <td>10</td>\n",
              "      <td>10</td>\n",
              "      <td>100</td>\n",
              "    </tr>\n",
              "    <tr>\n",
              "      <th>123</th>\n",
              "      <td>COMPLEXO EÓLICO PONTAL</td>\n",
              "      <td>P2B-06</td>\n",
              "      <td>2396</td>\n",
              "      <td>48.7XL</td>\n",
              "      <td>PS</td>\n",
              "      <td>https://winddataimgwindeuprd.blob.core.windows...</td>\n",
              "      <td>Top Coat - Pitting</td>\n",
              "      <td>6.07</td>\n",
              "      <td>10</td>\n",
              "      <td>10</td>\n",
              "      <td>100</td>\n",
              "    </tr>\n",
              "    <tr>\n",
              "      <th>150</th>\n",
              "      <td>COMPLEXO EÓLICO PONTAL</td>\n",
              "      <td>P2B-07</td>\n",
              "      <td>2940</td>\n",
              "      <td>48.7XL</td>\n",
              "      <td>LE</td>\n",
              "      <td>https://winddataimgwindeuprd.blob.core.windows...</td>\n",
              "      <td>Top Coat - Pitting</td>\n",
              "      <td>29.60</td>\n",
              "      <td>10</td>\n",
              "      <td>10</td>\n",
              "      <td>100</td>\n",
              "    </tr>\n",
              "    <tr>\n",
              "      <th>199</th>\n",
              "      <td>COMPLEXO EÓLICO PONTAL</td>\n",
              "      <td>P2A-01</td>\n",
              "      <td>1626</td>\n",
              "      <td>AL59</td>\n",
              "      <td>SS</td>\n",
              "      <td>https://winddataimgwindeuprd.blob.core.windows...</td>\n",
              "      <td>Top Coat - Pitting</td>\n",
              "      <td>24.71</td>\n",
              "      <td>10</td>\n",
              "      <td>10</td>\n",
              "      <td>100</td>\n",
              "    </tr>\n",
              "    <tr>\n",
              "      <th>202</th>\n",
              "      <td>COMPLEXO EÓLICO PONTAL</td>\n",
              "      <td>P2A-01</td>\n",
              "      <td>1627</td>\n",
              "      <td>AL59</td>\n",
              "      <td>PS</td>\n",
              "      <td>https://winddataimgwindeuprd.blob.core.windows...</td>\n",
              "      <td>Top Coat - Superficial Crack</td>\n",
              "      <td>41.54</td>\n",
              "      <td>10</td>\n",
              "      <td>10</td>\n",
              "      <td>100</td>\n",
              "    </tr>\n",
              "  </tbody>\n",
              "</table>\n",
              "</div>\n",
              "      <button class=\"colab-df-convert\" onclick=\"convertToInteractive('df-4667f91b-9780-42db-8afc-9e6c3e9f817f')\"\n",
              "              title=\"Convert this dataframe to an interactive table.\"\n",
              "              style=\"display:none;\">\n",
              "        \n",
              "  <svg xmlns=\"http://www.w3.org/2000/svg\" height=\"24px\"viewBox=\"0 0 24 24\"\n",
              "       width=\"24px\">\n",
              "    <path d=\"M0 0h24v24H0V0z\" fill=\"none\"/>\n",
              "    <path d=\"M18.56 5.44l.94 2.06.94-2.06 2.06-.94-2.06-.94-.94-2.06-.94 2.06-2.06.94zm-11 1L8.5 8.5l.94-2.06 2.06-.94-2.06-.94L8.5 2.5l-.94 2.06-2.06.94zm10 10l.94 2.06.94-2.06 2.06-.94-2.06-.94-.94-2.06-.94 2.06-2.06.94z\"/><path d=\"M17.41 7.96l-1.37-1.37c-.4-.4-.92-.59-1.43-.59-.52 0-1.04.2-1.43.59L10.3 9.45l-7.72 7.72c-.78.78-.78 2.05 0 2.83L4 21.41c.39.39.9.59 1.41.59.51 0 1.02-.2 1.41-.59l7.78-7.78 2.81-2.81c.8-.78.8-2.07 0-2.86zM5.41 20L4 18.59l7.72-7.72 1.47 1.35L5.41 20z\"/>\n",
              "  </svg>\n",
              "      </button>\n",
              "      \n",
              "  <style>\n",
              "    .colab-df-container {\n",
              "      display:flex;\n",
              "      flex-wrap:wrap;\n",
              "      gap: 12px;\n",
              "    }\n",
              "\n",
              "    .colab-df-convert {\n",
              "      background-color: #E8F0FE;\n",
              "      border: none;\n",
              "      border-radius: 50%;\n",
              "      cursor: pointer;\n",
              "      display: none;\n",
              "      fill: #1967D2;\n",
              "      height: 32px;\n",
              "      padding: 0 0 0 0;\n",
              "      width: 32px;\n",
              "    }\n",
              "\n",
              "    .colab-df-convert:hover {\n",
              "      background-color: #E2EBFA;\n",
              "      box-shadow: 0px 1px 2px rgba(60, 64, 67, 0.3), 0px 1px 3px 1px rgba(60, 64, 67, 0.15);\n",
              "      fill: #174EA6;\n",
              "    }\n",
              "\n",
              "    [theme=dark] .colab-df-convert {\n",
              "      background-color: #3B4455;\n",
              "      fill: #D2E3FC;\n",
              "    }\n",
              "\n",
              "    [theme=dark] .colab-df-convert:hover {\n",
              "      background-color: #434B5C;\n",
              "      box-shadow: 0px 1px 3px 1px rgba(0, 0, 0, 0.15);\n",
              "      filter: drop-shadow(0px 1px 2px rgba(0, 0, 0, 0.3));\n",
              "      fill: #FFFFFF;\n",
              "    }\n",
              "  </style>\n",
              "\n",
              "      <script>\n",
              "        const buttonEl =\n",
              "          document.querySelector('#df-4667f91b-9780-42db-8afc-9e6c3e9f817f button.colab-df-convert');\n",
              "        buttonEl.style.display =\n",
              "          google.colab.kernel.accessAllowed ? 'block' : 'none';\n",
              "\n",
              "        async function convertToInteractive(key) {\n",
              "          const element = document.querySelector('#df-4667f91b-9780-42db-8afc-9e6c3e9f817f');\n",
              "          const dataTable =\n",
              "            await google.colab.kernel.invokeFunction('convertToInteractive',\n",
              "                                                     [key], {});\n",
              "          if (!dataTable) return;\n",
              "\n",
              "          const docLinkHtml = 'Like what you see? Visit the ' +\n",
              "            '<a target=\"_blank\" href=https://colab.research.google.com/notebooks/data_table.ipynb>data table notebook</a>'\n",
              "            + ' to learn more about interactive tables.';\n",
              "          element.innerHTML = '';\n",
              "          dataTable['output_type'] = 'display_data';\n",
              "          await google.colab.output.renderOutput(dataTable, element);\n",
              "          const docLink = document.createElement('div');\n",
              "          docLink.innerHTML = docLinkHtml;\n",
              "          element.appendChild(docLink);\n",
              "        }\n",
              "      </script>\n",
              "    </div>\n",
              "  </div>\n",
              "  "
            ]
          },
          "metadata": {},
          "execution_count": 187
        }
      ]
    },
    {
      "cell_type": "code",
      "source": [
        "#Média de área dos problemas\n",
        "area_media = df['Area(mm)'].mean().round(2)\n",
        "print(f'Área média de problemas por lâmina: {area_media}mm')\n",
        "print(f'Área média de problemas por lâmina, em metros: {area_media // 1000}m')\n"
      ],
      "metadata": {
        "colab": {
          "base_uri": "https://localhost:8080/"
        },
        "id": "KWDwRC3lUY8U",
        "outputId": "23c7f2c2-17c1-4993-8590-b3b9824cfe5a"
      },
      "execution_count": null,
      "outputs": [
        {
          "output_type": "stream",
          "name": "stdout",
          "text": [
            "Área média de problemas por lâmina: 603792.05mm\n",
            "Área média de problemas por lâmina, em metros: 603.0m\n"
          ]
        }
      ]
    },
    {
      "cell_type": "markdown",
      "source": [
        "A área media dos problemas por lâmina é de 603792.05 milímetros, ou 603 metros."
      ],
      "metadata": {
        "id": "gPmK4s7GWHSU"
      }
    },
    {
      "cell_type": "markdown",
      "source": [
        "### -> Area média por problema"
      ],
      "metadata": {
        "id": "urpTa2Vx1Nw6"
      }
    },
    {
      "cell_type": "code",
      "source": [
        "#Para representat melhor os dados, vamos representar a área de milímetros para metros (dividindo por 1000)\n",
        "#E, então, inserir a area por metro em uma nova coluna no dataset\n",
        "df['Area(m)'] = df['Area(mm)'] // 1000\n",
        "df.groupby('Tipo')['Area(m)'].mean().round(2).plot.barh(title='Area média por problema (m)', color='orangered')"
      ],
      "metadata": {
        "colab": {
          "base_uri": "https://localhost:8080/",
          "height": 296
        },
        "id": "QNxkdxDS1dNA",
        "outputId": "d290c1a4-0311-48b6-faf2-fc0ba4bf42d1"
      },
      "execution_count": null,
      "outputs": [
        {
          "output_type": "execute_result",
          "data": {
            "text/plain": [
              "<matplotlib.axes._subplots.AxesSubplot at 0x7f52e6e53110>"
            ]
          },
          "metadata": {},
          "execution_count": 189
        },
        {
          "output_type": "display_data",
          "data": {
            "text/plain": [
              "<Figure size 432x288 with 1 Axes>"
            ],
            "image/png": "[encoded data removed]"
          },
          "metadata": {
            "needs_background": "light"
          }
        }
      ]
    },
    {
      "cell_type": "markdown",
      "source": [
        "Podemos notar que o problema com tamanho médio maior é o de fungos, indicando que este problema geralmente tem uma área maior do que as outras. Os problemas de descascamento e arranhões seguem como os maiores atrás.\n",
        "\n",
        "Em contrapartida, a maioria dos outros problemas são pouco ou não visíveis no gráfico, indicando que, no geral, estes problemas são menores."
      ],
      "metadata": {
        "id": "EvmxdW5o72Ap"
      }
    },
    {
      "cell_type": "markdown",
      "source": [
        "## Comparando lâminas e seus problemas"
      ],
      "metadata": {
        "id": "H5BxZlqhSWyh"
      }
    },
    {
      "cell_type": "markdown",
      "source": [
        "### -> Problemas x lâminas"
      ],
      "metadata": {
        "id": "3JmiYojmTosh"
      }
    },
    {
      "cell_type": "code",
      "source": [
        "df.groupby('SN da lâmina')['Tipo'].size().sort_values().plot.barh(title='Nº problemas x lâmina', color='darkviolet');"
      ],
      "metadata": {
        "colab": {
          "base_uri": "https://localhost:8080/",
          "height": 279
        },
        "id": "IdlhxBCFS0EP",
        "outputId": "ed0f4d9e-a0ed-4f1d-de1f-4b609338327c"
      },
      "execution_count": null,
      "outputs": [
        {
          "output_type": "display_data",
          "data": {
            "text/plain": [
              "<Figure size 432x288 with 1 Axes>"
            ],
            "image/png": "[encoded data removed]"
          },
          "metadata": {
            "needs_background": "light"
          }
        }
      ]
    },
    {
      "cell_type": "markdown",
      "source": [
        "A làmina 2364 apresentou o maior número de problemas, enquanto a lâmina 2940 apresentou o menor número."
      ],
      "metadata": {
        "id": "PJNNmY74Tu5I"
      }
    },
    {
      "cell_type": "code",
      "source": [
        "media = int(df.groupby('SN da lâmina')['Tipo'].size().mean())\n",
        "print(f'Média de problemas por lâmina: {media}')"
      ],
      "metadata": {
        "colab": {
          "base_uri": "https://localhost:8080/"
        },
        "id": "HdUOFsSrTaXP",
        "outputId": "1151d8be-d3ef-43b4-efce-cb24542f1371"
      },
      "execution_count": null,
      "outputs": [
        {
          "output_type": "stream",
          "name": "stdout",
          "text": [
            "Média de problemas por lâmina: 11\n"
          ]
        }
      ]
    },
    {
      "cell_type": "markdown",
      "source": [
        "Podemos concluir que cada lâmina tem, em média, 11 problemas."
      ],
      "metadata": {
        "id": "oeLGfbGNUUIl"
      }
    },
    {
      "cell_type": "markdown",
      "source": [
        "### -> Gráfico de comparação de cada problema, para cada lâmina"
      ],
      "metadata": {
        "id": "Hd6Y2mjQVEXa"
      }
    },
    {
      "cell_type": "code",
      "source": [
        "#Transformando em um DataSet onde analisamos, para cada lâmina (por SN), cada problema envolvido nesta lâmina\n",
        "df_blades = df[['SN da lâmina', \"Tipo\"]]\n",
        "df_blades = df_blades.groupby([pd.Categorical(df['SN da lâmina']), 'Tipo']).size().reset_index(name='Nº ocorrencias')\n",
        "\n",
        "#Renomeando coluna de volta para SN de lâminas\n",
        "df_blades = df_blades.rename(columns={'level_0':'SN da lâmina'})\n",
        "df_blades.head(25)"
      ],
      "metadata": {
        "colab": {
          "base_uri": "https://localhost:8080/",
          "height": 833
        },
        "id": "8-I8dyE4VMTC",
        "outputId": "b203b74b-8d60-46db-bdaf-fcfaa657ed37"
      },
      "execution_count": null,
      "outputs": [
        {
          "output_type": "execute_result",
          "data": {
            "text/plain": [
              "   SN da lâmina                           Tipo  Nº ocorrencias\n",
              "0          1602      Crack in the bonding line               0\n",
              "1          1602          Crack in the laminate               0\n",
              "2          1602                   Delamination               0\n",
              "3          1602          Drain Hole Obstructed               1\n",
              "4          1602                          Fungi               1\n",
              "5          1602              LEP tape- Damaged               0\n",
              "6          1602                Seleant cracked               0\n",
              "7          1602  Top Coat - Eorosion in the LE               3\n",
              "8          1602             Top Coat - Peeling               0\n",
              "9          1602             Top Coat - Pitting               1\n",
              "10         1602             Top Coat - Scratch               0\n",
              "11         1602   Top Coat - Superficial Crack               1\n",
              "12         1603      Crack in the bonding line               0\n",
              "13         1603          Crack in the laminate               1\n",
              "14         1603                   Delamination               0\n",
              "15         1603          Drain Hole Obstructed               1\n",
              "16         1603                          Fungi               1\n",
              "17         1603              LEP tape- Damaged               0\n",
              "18         1603                Seleant cracked               0\n",
              "19         1603  Top Coat - Eorosion in the LE               6\n",
              "20         1603             Top Coat - Peeling               0\n",
              "21         1603             Top Coat - Pitting               3\n",
              "22         1603             Top Coat - Scratch               0\n",
              "23         1603   Top Coat - Superficial Crack               0\n",
              "24         1608      Crack in the bonding line               0"
            ],
            "text/html": [
              "\n",
              "  <div id=\"df-d4ace503-d2c1-4e5e-b2ec-125a65c912f3\">\n",
              "    <div class=\"colab-df-container\">\n",
              "      <div>\n",
              "<style scoped>\n",
              "    .dataframe tbody tr th:only-of-type {\n",
              "        vertical-align: middle;\n",
              "    }\n",
              "\n",
              "    .dataframe tbody tr th {\n",
              "        vertical-align: top;\n",
              "    }\n",
              "\n",
              "    .dataframe thead th {\n",
              "        text-align: right;\n",
              "    }\n",
              "</style>\n",
              "<table border=\"1\" class=\"dataframe\">\n",
              "  <thead>\n",
              "    <tr style=\"text-align: right;\">\n",
              "      <th></th>\n",
              "      <th>SN da lâmina</th>\n",
              "      <th>Tipo</th>\n",
              "      <th>Nº ocorrencias</th>\n",
              "    </tr>\n",
              "  </thead>\n",
              "  <tbody>\n",
              "    <tr>\n",
              "      <th>0</th>\n",
              "      <td>1602</td>\n",
              "      <td>Crack in the bonding line</td>\n",
              "      <td>0</td>\n",
              "    </tr>\n",
              "    <tr>\n",
              "      <th>1</th>\n",
              "      <td>1602</td>\n",
              "      <td>Crack in the laminate</td>\n",
              "      <td>0</td>\n",
              "    </tr>\n",
              "    <tr>\n",
              "      <th>2</th>\n",
              "      <td>1602</td>\n",
              "      <td>Delamination</td>\n",
              "      <td>0</td>\n",
              "    </tr>\n",
              "    <tr>\n",
              "      <th>3</th>\n",
              "      <td>1602</td>\n",
              "      <td>Drain Hole Obstructed</td>\n",
              "      <td>1</td>\n",
              "    </tr>\n",
              "    <tr>\n",
              "      <th>4</th>\n",
              "      <td>1602</td>\n",
              "      <td>Fungi</td>\n",
              "      <td>1</td>\n",
              "    </tr>\n",
              "    <tr>\n",
              "      <th>5</th>\n",
              "      <td>1602</td>\n",
              "      <td>LEP tape- Damaged</td>\n",
              "      <td>0</td>\n",
              "    </tr>\n",
              "    <tr>\n",
              "      <th>6</th>\n",
              "      <td>1602</td>\n",
              "      <td>Seleant cracked</td>\n",
              "      <td>0</td>\n",
              "    </tr>\n",
              "    <tr>\n",
              "      <th>7</th>\n",
              "      <td>1602</td>\n",
              "      <td>Top Coat - Eorosion in the LE</td>\n",
              "      <td>3</td>\n",
              "    </tr>\n",
              "    <tr>\n",
              "      <th>8</th>\n",
              "      <td>1602</td>\n",
              "      <td>Top Coat - Peeling</td>\n",
              "      <td>0</td>\n",
              "    </tr>\n",
              "    <tr>\n",
              "      <th>9</th>\n",
              "      <td>1602</td>\n",
              "      <td>Top Coat - Pitting</td>\n",
              "      <td>1</td>\n",
              "    </tr>\n",
              "    <tr>\n",
              "      <th>10</th>\n",
              "      <td>1602</td>\n",
              "      <td>Top Coat - Scratch</td>\n",
              "      <td>0</td>\n",
              "    </tr>\n",
              "    <tr>\n",
              "      <th>11</th>\n",
              "      <td>1602</td>\n",
              "      <td>Top Coat - Superficial Crack</td>\n",
              "      <td>1</td>\n",
              "    </tr>\n",
              "    <tr>\n",
              "      <th>12</th>\n",
              "      <td>1603</td>\n",
              "      <td>Crack in the bonding line</td>\n",
              "      <td>0</td>\n",
              "    </tr>\n",
              "    <tr>\n",
              "      <th>13</th>\n",
              "      <td>1603</td>\n",
              "      <td>Crack in the laminate</td>\n",
              "      <td>1</td>\n",
              "    </tr>\n",
              "    <tr>\n",
              "      <th>14</th>\n",
              "      <td>1603</td>\n",
              "      <td>Delamination</td>\n",
              "      <td>0</td>\n",
              "    </tr>\n",
              "    <tr>\n",
              "      <th>15</th>\n",
              "      <td>1603</td>\n",
              "      <td>Drain Hole Obstructed</td>\n",
              "      <td>1</td>\n",
              "    </tr>\n",
              "    <tr>\n",
              "      <th>16</th>\n",
              "      <td>1603</td>\n",
              "      <td>Fungi</td>\n",
              "      <td>1</td>\n",
              "    </tr>\n",
              "    <tr>\n",
              "      <th>17</th>\n",
              "      <td>1603</td>\n",
              "      <td>LEP tape- Damaged</td>\n",
              "      <td>0</td>\n",
              "    </tr>\n",
              "    <tr>\n",
              "      <th>18</th>\n",
              "      <td>1603</td>\n",
              "      <td>Seleant cracked</td>\n",
              "      <td>0</td>\n",
              "    </tr>\n",
              "    <tr>\n",
              "      <th>19</th>\n",
              "      <td>1603</td>\n",
              "      <td>Top Coat - Eorosion in the LE</td>\n",
              "      <td>6</td>\n",
              "    </tr>\n",
              "    <tr>\n",
              "      <th>20</th>\n",
              "      <td>1603</td>\n",
              "      <td>Top Coat - Peeling</td>\n",
              "      <td>0</td>\n",
              "    </tr>\n",
              "    <tr>\n",
              "      <th>21</th>\n",
              "      <td>1603</td>\n",
              "      <td>Top Coat - Pitting</td>\n",
              "      <td>3</td>\n",
              "    </tr>\n",
              "    <tr>\n",
              "      <th>22</th>\n",
              "      <td>1603</td>\n",
              "      <td>Top Coat - Scratch</td>\n",
              "      <td>0</td>\n",
              "    </tr>\n",
              "    <tr>\n",
              "      <th>23</th>\n",
              "      <td>1603</td>\n",
              "      <td>Top Coat - Superficial Crack</td>\n",
              "      <td>0</td>\n",
              "    </tr>\n",
              "    <tr>\n",
              "      <th>24</th>\n",
              "      <td>1608</td>\n",
              "      <td>Crack in the bonding line</td>\n",
              "      <td>0</td>\n",
              "    </tr>\n",
              "  </tbody>\n",
              "</table>\n",
              "</div>\n",
              "      <button class=\"colab-df-convert\" onclick=\"convertToInteractive('df-d4ace503-d2c1-4e5e-b2ec-125a65c912f3')\"\n",
              "              title=\"Convert this dataframe to an interactive table.\"\n",
              "              style=\"display:none;\">\n",
              "        \n",
              "  <svg xmlns=\"http://www.w3.org/2000/svg\" height=\"24px\"viewBox=\"0 0 24 24\"\n",
              "       width=\"24px\">\n",
              "    <path d=\"M0 0h24v24H0V0z\" fill=\"none\"/>\n",
              "    <path d=\"M18.56 5.44l.94 2.06.94-2.06 2.06-.94-2.06-.94-.94-2.06-.94 2.06-2.06.94zm-11 1L8.5 8.5l.94-2.06 2.06-.94-2.06-.94L8.5 2.5l-.94 2.06-2.06.94zm10 10l.94 2.06.94-2.06 2.06-.94-2.06-.94-.94-2.06-.94 2.06-2.06.94z\"/><path d=\"M17.41 7.96l-1.37-1.37c-.4-.4-.92-.59-1.43-.59-.52 0-1.04.2-1.43.59L10.3 9.45l-7.72 7.72c-.78.78-.78 2.05 0 2.83L4 21.41c.39.39.9.59 1.41.59.51 0 1.02-.2 1.41-.59l7.78-7.78 2.81-2.81c.8-.78.8-2.07 0-2.86zM5.41 20L4 18.59l7.72-7.72 1.47 1.35L5.41 20z\"/>\n",
              "  </svg>\n",
              "      </button>\n",
              "      \n",
              "  <style>\n",
              "    .colab-df-container {\n",
              "      display:flex;\n",
              "      flex-wrap:wrap;\n",
              "      gap: 12px;\n",
              "    }\n",
              "\n",
              "    .colab-df-convert {\n",
              "      background-color: #E8F0FE;\n",
              "      border: none;\n",
              "      border-radius: 50%;\n",
              "      cursor: pointer;\n",
              "      display: none;\n",
              "      fill: #1967D2;\n",
              "      height: 32px;\n",
              "      padding: 0 0 0 0;\n",
              "      width: 32px;\n",
              "    }\n",
              "\n",
              "    .colab-df-convert:hover {\n",
              "      background-color: #E2EBFA;\n",
              "      box-shadow: 0px 1px 2px rgba(60, 64, 67, 0.3), 0px 1px 3px 1px rgba(60, 64, 67, 0.15);\n",
              "      fill: #174EA6;\n",
              "    }\n",
              "\n",
              "    [theme=dark] .colab-df-convert {\n",
              "      background-color: #3B4455;\n",
              "      fill: #D2E3FC;\n",
              "    }\n",
              "\n",
              "    [theme=dark] .colab-df-convert:hover {\n",
              "      background-color: #434B5C;\n",
              "      box-shadow: 0px 1px 3px 1px rgba(0, 0, 0, 0.15);\n",
              "      filter: drop-shadow(0px 1px 2px rgba(0, 0, 0, 0.3));\n",
              "      fill: #FFFFFF;\n",
              "    }\n",
              "  </style>\n",
              "\n",
              "      <script>\n",
              "        const buttonEl =\n",
              "          document.querySelector('#df-d4ace503-d2c1-4e5e-b2ec-125a65c912f3 button.colab-df-convert');\n",
              "        buttonEl.style.display =\n",
              "          google.colab.kernel.accessAllowed ? 'block' : 'none';\n",
              "\n",
              "        async function convertToInteractive(key) {\n",
              "          const element = document.querySelector('#df-d4ace503-d2c1-4e5e-b2ec-125a65c912f3');\n",
              "          const dataTable =\n",
              "            await google.colab.kernel.invokeFunction('convertToInteractive',\n",
              "                                                     [key], {});\n",
              "          if (!dataTable) return;\n",
              "\n",
              "          const docLinkHtml = 'Like what you see? Visit the ' +\n",
              "            '<a target=\"_blank\" href=https://colab.research.google.com/notebooks/data_table.ipynb>data table notebook</a>'\n",
              "            + ' to learn more about interactive tables.';\n",
              "          element.innerHTML = '';\n",
              "          dataTable['output_type'] = 'display_data';\n",
              "          await google.colab.output.renderOutput(dataTable, element);\n",
              "          const docLink = document.createElement('div');\n",
              "          docLink.innerHTML = docLinkHtml;\n",
              "          element.appendChild(docLink);\n",
              "        }\n",
              "      </script>\n",
              "    </div>\n",
              "  </div>\n",
              "  "
            ]
          },
          "metadata": {},
          "execution_count": 192
        }
      ]
    },
    {
      "cell_type": "code",
      "source": [
        "\n",
        "\n",
        "#Lista de lâminas\n",
        "blades = list(df_blades['SN da lâmina'].unique())\n",
        "\n",
        "#Lista de ocorrências em cada problema\n",
        "line_crack = list(df_blades.loc[df_blades['Tipo'] == 'Crack in the bonding line']['Nº ocorrencias'])\n",
        "lam_crack = list(df_blades.loc[df_blades['Tipo'] == 'Crack in the laminate']['Nº ocorrencias'])\n",
        "delam = list(df_blades.loc[df_blades['Tipo'] == 'Delamination']['Nº ocorrencias'])\n",
        "obstruct = list(df_blades.loc[df_blades['Tipo'] == 'Drain Hole Obstructed']['Nº ocorrencias'])\n",
        "fungi = list(df_blades.loc[df_blades['Tipo'] == 'Fungi']['Nº ocorrencias'])\n",
        "LEP_damage = list(df_blades.loc[df_blades['Tipo'] == 'LEP tape- Damaged']['Nº ocorrencias'])\n",
        "seal_crack = list(df_blades.loc[df_blades['Tipo'] == 'Seleant cracked']['Nº ocorrencias'])\n",
        "tc_erosion = list(df_blades.loc[df_blades['Tipo'] == 'Top Coat - Eorosion in the LE']['Nº ocorrencias'])\n",
        "tc_peel = list(df_blades.loc[df_blades['Tipo'] == 'Top Coat - Peeling']['Nº ocorrencias'])\n",
        "tc_scratch = list(df_blades.loc[df_blades['Tipo'] == 'Top Coat - Scratch']['Nº ocorrencias'])\n",
        "tc_pitt = list(df_blades.loc[df_blades['Tipo'] == 'Top Coat - Pitting']['Nº ocorrencias'])\n",
        "tc_superf = list(df_blades.loc[df_blades['Tipo'] == 'Top Coat - Superficial Crack']['Nº ocorrencias'])\n",
        "\n",
        "problems = df_blades['Tipo'].unique()\n",
        "\n",
        "#Criação do gráfico\n",
        "#Gerar figura\n",
        "fig = plt.figure(figsize=(20,10))\n",
        "\n",
        "#Número de conjunto de barras (cada conjunto é uma lâmina)\n",
        "N = len(blades)\n",
        "\n",
        "#Barras no eixo x\n",
        "ind = np.arange(N)\n",
        "\n",
        "#Largura de cada barra\n",
        "#Esse método acha sempre o melhor width possível (não entendi como)\n",
        "width = np.min(np.diff(range(len(blades))))/len(blades)\n",
        "\n",
        "#Criando barras\n",
        "plt.bar(ind, line_crack, width, label='Crack in the bonding line',)\n",
        "plt.bar(ind + width, lam_crack, width, label='Crack in the laminate')\n",
        "plt.bar(ind + width*2, delam, width, label='Delamination')\n",
        "plt.bar(ind + width*3, obstruct, width, label='Drain Hole Obstructed')\n",
        "plt.bar(ind + width*4, fungi, width, label='Fungi')\n",
        "plt.bar(ind + width*5, LEP_damage, width, label='LEP tape- Damaged')\n",
        "plt.bar(ind + width*6, seal_crack, width, label='Seleant cracked')\n",
        "plt.bar(ind + width*7, tc_erosion, width, label='Top Coat - Eorosion in the LE')\n",
        "plt.bar(ind + width*8, tc_peel, width, label='Top Coat - Peeling')\n",
        "plt.bar(ind + width*9, tc_scratch, width, label='Top Coat - Scratch', color='black')\n",
        "plt.bar(ind + width*10, tc_pitt, width, label='Top Coat - Pitting', color='magenta')\n",
        "plt.bar(ind + width*11, tc_superf, width, label='Top Coat - Superficial Crack', color='grey')\n",
        "\n",
        "#Nomeando eixo x e y\n",
        "plt.xlabel('SN da lâmina')\n",
        "plt.ylabel('Nº de ocorrências')\n",
        "plt.title('Nº de ocorrências de problemas, por lâmina')\n",
        "\n",
        "#Posição dos nomes do eixo X\n",
        "plt.xticks(ind + width, blades)\n",
        "\n",
        "#Mostrando legendas no melhor lugar\n",
        "plt.legend(loc='best')\n",
        "plt.show()"
      ],
      "metadata": {
        "colab": {
          "base_uri": "https://localhost:8080/",
          "height": 508
        },
        "id": "TfhtDqIXsz1O",
        "outputId": "edc9eb81-ccc7-4ef8-e0d9-3aee5b857b20"
      },
      "execution_count": null,
      "outputs": [
        {
          "output_type": "display_data",
          "data": {
            "text/plain": [
              "<Figure size 1440x720 with 1 Axes>"
            ],
            "image/png": "[encoded data removed]"
          },
          "metadata": {
            "needs_background": "light"
          }
        }
      ]
    },
    {
      "cell_type": "markdown",
      "source": [
        "> **Nota**: esse gráfico é apenas por puro aprendizado. Algumas barras podem estar mal colocadas, e os nomes no eixo X não estão perfeitamente alinhados. Além disso, a etsratégia utilizada para criar as barras pode não ser a melhor.\n",
        "\n",
        "Embora seja um gráfico complicado para analisar em detalhes, em uma visão geral podemos notar algumas coisas:\n",
        "\n",
        "- o problema de camadas descascadas (Top Coat Peeling - linha amarela), em alguns casos, acontece em maior quantidade quando comparado aos outros problemas;\n",
        "\n",
        "- é possível vizualizar as cores verde-claro e rosa em grande parte das lâminas, indicando que os problemas de erosão e corrosão em cavidades aparecem com mais frequência entre uma lâmina e outra;\n",
        "\n",
        "- o descascamento da camada superior é o único problema que ocorre mais de 10 vezes. De fato, a maioria dos problemas acontecem bem menos: em média 1-2 vezes por lâmina;\n",
        "\n",
        "- alguns problemas aparecem muitas poucas vezes. Por exemplo, a linha preta (que indica arranhôes na camada superior) aparece uma única vez, na lâmina 2396. Isto indica que não é um problema comum.\n"
      ],
      "metadata": {
        "id": "0VqTlUFuO2IL"
      }
    },
    {
      "cell_type": "markdown",
      "source": [
        "## Bonus\n",
        "\n",
        "Algumas análises que provavelmente seriam pouco ou não usadas, apenas a fins de estudo."
      ],
      "metadata": {
        "id": "IRQZ0FYho0bB"
      }
    },
    {
      "cell_type": "markdown",
      "source": [
        "### -> Altura média onde cada problema ocorre"
      ],
      "metadata": {
        "id": "lbU3zY3tpc9i"
      }
    },
    {
      "cell_type": "code",
      "source": [
        "df.groupby('Tipo')['Altura(m)'].mean().round(2)"
      ],
      "metadata": {
        "colab": {
          "base_uri": "https://localhost:8080/"
        },
        "id": "wlGXsC1ApnE4",
        "outputId": "ab8538d5-7aea-451b-de52-fd37585a4fca"
      },
      "execution_count": null,
      "outputs": [
        {
          "output_type": "execute_result",
          "data": {
            "text/plain": [
              "Tipo\n",
              "Crack in the bonding line        42.88\n",
              "Crack in the laminate            32.94\n",
              "Delamination                     48.56\n",
              "Drain Hole Obstructed            55.23\n",
              "Fungi                            14.80\n",
              "LEP tape- Damaged                37.02\n",
              "Seleant cracked                  58.90\n",
              "Top Coat - Eorosion in the LE    53.72\n",
              "Top Coat - Peeling               27.87\n",
              "Top Coat - Pitting               33.43\n",
              "Top Coat - Scratch               30.09\n",
              "Top Coat - Superficial Crack     36.60\n",
              "Name: Altura(m), dtype: float64"
            ]
          },
          "metadata": {},
          "execution_count": 194
        }
      ]
    },
    {
      "cell_type": "markdown",
      "source": [
        "O problema de obstrução no ralo acontece em alturas menores, enquanto problemas por fungos acontecem nas menores alturas. Como já vimos anteriormente, a altura média dos problemas é de 53 metros."
      ],
      "metadata": {
        "id": "w1j4kPHTuaOR"
      }
    },
    {
      "cell_type": "markdown",
      "source": [
        "### -> Altura total escalada para resolver problemas"
      ],
      "metadata": {
        "id": "vawpC91Xu3Wj"
      }
    },
    {
      "cell_type": "code",
      "source": [
        "alt_total = df['Altura(m)'].sum()\n",
        "print(f'Foram escalados um total de {int(alt_total)} metros.')\n",
        "\n",
        "#Altura do Everest é constante\n",
        "EVEREST = 8849\n",
        "res = int(EVEREST - alt_total)\n",
        "\n",
        "#Mostrando resultados, considerando se a altura total é maior ou menor do que a do Everest\n",
        "if res < 0:\n",
        "  print(f'Isso é equivalente a escalar o Everest inteiro, e mais {-(res)} metros!')\n",
        "else:\n",
        "  print(f'Com mais {res} metros, você escalaria o equivalente ao Everest!')"
      ],
      "metadata": {
        "colab": {
          "base_uri": "https://localhost:8080/"
        },
        "id": "WEwl_vvQvCPp",
        "outputId": "a3388002-18c1-466e-dcd1-5c762cea76ee"
      },
      "execution_count": null,
      "outputs": [
        {
          "output_type": "stream",
          "name": "stdout",
          "text": [
            "Foram escalados um total de 7333 metros.\n",
            "Com mais 1515 metros, você escalaria o equivalente ao Everest!\n"
          ]
        }
      ]
    },
    {
      "cell_type": "markdown",
      "source": [
        "É notável que os problemas estão em grandes alturas, e por razões óbvias resolvidos por equipes de diversos profissionais. Porém, se uma só pessoa resolvesse todos os problemas deste parque, o total escalado por esta pessoa seria quase equivalente ao Everest, a maior montanha do mundo!"
      ],
      "metadata": {
        "id": "HXHrebtHwCoC"
      }
    },
    {
      "cell_type": "markdown",
      "source": [
        "# Considerações finais"
      ],
      "metadata": {
        "id": "A66RJKSK0M1K"
      }
    },
    {
      "cell_type": "markdown",
      "source": [
        "Com algumas poucas linhas de código, é possível analisar, de modo geral, vários aspectos em um dataset, planilha ou carta de várias linhas. Neste caso, analisamos uma planilha de Excel (convertida para formato CSV por questões práticas) de 201 linhas e 10 colunas, analisando em poucas linhas o que demoraria horas, ou até dias para concluir!\n",
        "\n",
        "<br>\n",
        "\n",
        "Como meu primeiro projeto de Ciência de Dados, algumas informações podem não estar inteiramente corretas ou completas, e também os métodos utilizados para criar os gráficos, ou até mesmo os gráficos, podem não ser os de melhor eficiência. Portanto, caro leitor, caso tenha alguma opinião, dica ou sugestão, sinta-se livre para me contatar!\n",
        "\n",
        "Obrigado por acompanhar o projeto até aqui!\n",
        " 🙂"
      ],
      "metadata": {
        "id": "_USBpIA-KZ-p"
      }
    }
  ]
}